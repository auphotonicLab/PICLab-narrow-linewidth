{
 "cells": [
  {
   "cell_type": "code",
   "execution_count": 12,
   "id": "b1fe5888",
   "metadata": {},
   "outputs": [],
   "source": [
    "from u_shaped_lib import CSH,load_data #Modified data is used, so we load CSH and not CSH_unmodified (where division with prop factor is needed)\n"
   ]
  },
  {
   "cell_type": "code",
   "execution_count": 3,
   "id": "03a45b7a",
   "metadata": {},
   "outputs": [
    {
     "ename": "ValueError",
     "evalue": "too many values to unpack (expected 2)",
     "output_type": "error",
     "traceback": [
      "\u001b[1;31m---------------------------------------------------------------------------\u001b[0m",
      "\u001b[1;31mValueError\u001b[0m                                Traceback (most recent call last)",
      "Cell \u001b[1;32mIn[3], line 8\u001b[0m\n\u001b[0;32m      4\u001b[0m dir_hf_old \u001b[38;5;241m=\u001b[39m \u001b[38;5;124mr\u001b[39m\u001b[38;5;124m\"\u001b[39m\u001b[38;5;124mO:\u001b[39m\u001b[38;5;124m\\\u001b[39m\u001b[38;5;124mTech_Photonics\u001b[39m\u001b[38;5;124m\\\u001b[39m\u001b[38;5;124mProjects\u001b[39m\u001b[38;5;124m\\\u001b[39m\u001b[38;5;124mNarrow Linewidth\u001b[39m\u001b[38;5;124m\\\u001b[39m\u001b[38;5;124mMFB Chips\u001b[39m\u001b[38;5;124m\\\u001b[39m\u001b[38;5;124mChip 3 Feedback measurements\u001b[39m\u001b[38;5;124m\\\u001b[39m\u001b[38;5;124mWeird_data\u001b[39m\u001b[38;5;124m\\\u001b[39m\u001b[38;5;124mOld_lensed_fiber\u001b[39m\u001b[38;5;124m\\\u001b[39m\u001b[38;5;124mHighFinesse\u001b[39m\u001b[38;5;124m\"\u001b[39m\n\u001b[0;32m      5\u001b[0m dir_hf_new \u001b[38;5;241m=\u001b[39m \u001b[38;5;124mr\u001b[39m\u001b[38;5;124m\"\u001b[39m\u001b[38;5;124mO:\u001b[39m\u001b[38;5;124m\\\u001b[39m\u001b[38;5;124mTech_Photonics\u001b[39m\u001b[38;5;124m\\\u001b[39m\u001b[38;5;124mProjects\u001b[39m\u001b[38;5;124m\\\u001b[39m\u001b[38;5;124mNarrow Linewidth\u001b[39m\u001b[38;5;124m\\\u001b[39m\u001b[38;5;124mMFB Chips\u001b[39m\u001b[38;5;124m\\\u001b[39m\u001b[38;5;124mChip 3 Feedback measurements\u001b[39m\u001b[38;5;124m\\\u001b[39m\u001b[38;5;124mWeird_data\u001b[39m\u001b[38;5;124m\\\u001b[39m\u001b[38;5;124mNew_lensed_fiber\u001b[39m\u001b[38;5;124m\\\u001b[39m\u001b[38;5;124mHighFinesse\u001b[39m\u001b[38;5;124m\"\u001b[39m\n\u001b[1;32m----> 8\u001b[0m data_200_old \u001b[38;5;241m=\u001b[39m \u001b[43mCSH\u001b[49m\u001b[38;5;241;43m.\u001b[39;49m\u001b[43mget_data\u001b[49m\u001b[43m(\u001b[49m\u001b[43mdir_200_old\u001b[49m\u001b[43m)\u001b[49m\n\u001b[0;32m     10\u001b[0m data_200_old \u001b[38;5;241m=\u001b[39m CSH\u001b[38;5;241m.\u001b[39mget_data(dir_200_old)\n",
      "File \u001b[1;32mc:\\Users\\au617810\\.conda\\envs\\conda_env\\Lib\\site-packages\\u_shaped_lib\\CSH.py:112\u001b[0m, in \u001b[0;36mget_data\u001b[1;34m(directory, floor_range)\u001b[0m\n\u001b[0;32m    109\u001b[0m lw_all \u001b[38;5;241m=\u001b[39m  [\u001b[38;5;241m0\u001b[39m]\u001b[38;5;241m*\u001b[39mnumber\n\u001b[0;32m    111\u001b[0m \u001b[38;5;28;01mfor\u001b[39;00m i,path \u001b[38;5;129;01min\u001b[39;00m \u001b[38;5;28menumerate\u001b[39m(paths):\n\u001b[1;32m--> 112\u001b[0m     freqs, ps \u001b[38;5;241m=\u001b[39m load_csh_data(path)\n\u001b[0;32m    114\u001b[0m     freqs_all[i] \u001b[38;5;241m=\u001b[39m freqs\n\u001b[0;32m    115\u001b[0m     ps_all[i] \u001b[38;5;241m=\u001b[39m ps\n",
      "\u001b[1;31mValueError\u001b[0m: too many values to unpack (expected 2)"
     ]
    }
   ],
   "source": [
    "dir_200_old = r\"O:\\Tech_Photonics\\Projects\\Narrow Linewidth\\MFB Chips\\Chip 3 Feedback measurements\\Weird_data\\Old_lensed_fiber\\200 counts\"\n",
    "dir_200_new = r\"O:\\Tech_Photonics\\Projects\\Narrow Linewidth\\MFB Chips\\Chip 3 Feedback measurements\\Weird_data\\New_lensed_fiber\\200 counts\"\n",
    "\n",
    "dir_hf_old = r\"O:\\Tech_Photonics\\Projects\\Narrow Linewidth\\MFB Chips\\Chip 3 Feedback measurements\\Weird_data\\Old_lensed_fiber\\HighFinesse\"\n",
    "dir_hf_new = r\"O:\\Tech_Photonics\\Projects\\Narrow Linewidth\\MFB Chips\\Chip 3 Feedback measurements\\Weird_data\\New_lensed_fiber\\HighFinesse\"\n",
    "\n",
    "\n",
    "data_200_old = CSH.get_data(dir_200_old)\n",
    "\n",
    "data_200_old = CSH.get_data(dir_200_old)\n",
    "\n",
    "\n"
   ]
  }
 ],
 "metadata": {
  "kernelspec": {
   "display_name": "conda_env",
   "language": "python",
   "name": "python3"
  },
  "language_info": {
   "codemirror_mode": {
    "name": "ipython",
    "version": 3
   },
   "file_extension": ".py",
   "mimetype": "text/x-python",
   "name": "python",
   "nbconvert_exporter": "python",
   "pygments_lexer": "ipython3",
   "version": "3.12.0"
  }
 },
 "nbformat": 4,
 "nbformat_minor": 5
}
