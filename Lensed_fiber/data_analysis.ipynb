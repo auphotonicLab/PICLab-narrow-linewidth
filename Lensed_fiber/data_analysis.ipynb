{
 "cells": [
  {
   "cell_type": "code",
   "execution_count": 7,
   "id": "b1fe5888",
   "metadata": {},
   "outputs": [],
   "source": [
    "from uslib import CSH\n"
   ]
  },
  {
   "cell_type": "code",
   "execution_count": 8,
   "id": "03a45b7a",
   "metadata": {},
   "outputs": [
    {
     "ename": "TypeError",
     "evalue": "get_csh_paths() missing 1 required positional argument: 'directory'",
     "output_type": "error",
     "traceback": [
      "\u001b[1;31m---------------------------------------------------------------------------\u001b[0m",
      "\u001b[1;31mTypeError\u001b[0m                                 Traceback (most recent call last)",
      "Cell \u001b[1;32mIn[8], line 1\u001b[0m\n\u001b[1;32m----> 1\u001b[0m \u001b[43mCSH\u001b[49m\u001b[38;5;241;43m.\u001b[39;49m\u001b[43mget_csh_paths\u001b[49m\u001b[43m(\u001b[49m\u001b[43m)\u001b[49m\n",
      "\u001b[1;31mTypeError\u001b[0m: get_csh_paths() missing 1 required positional argument: 'directory'"
     ]
    }
   ],
   "source": [
    "CSH.get_csh_paths()"
   ]
  }
 ],
 "metadata": {
  "kernelspec": {
   "display_name": "conda_env",
   "language": "python",
   "name": "python3"
  },
  "language_info": {
   "codemirror_mode": {
    "name": "ipython",
    "version": 3
   },
   "file_extension": ".py",
   "mimetype": "text/x-python",
   "name": "python",
   "nbconvert_exporter": "python",
   "pygments_lexer": "ipython3",
   "version": "3.12.0"
  }
 },
 "nbformat": 4,
 "nbformat_minor": 5
}
