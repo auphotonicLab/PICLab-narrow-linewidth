{
 "cells": [
  {
   "cell_type": "code",
   "execution_count": 14,
   "metadata": {},
   "outputs": [],
   "source": [
    "import numpy as np \n",
    "import matplotlib.pyplot as plt\n",
    "import pandas as pd\n",
    "from scipy.optimize import curve_fit\n",
    "from file_management_lib import get_paths"
   ]
  },
  {
   "cell_type": "code",
   "execution_count": 3,
   "metadata": {},
   "outputs": [
    {
     "ename": "FileNotFoundError",
     "evalue": "[WinError 3] The system cannot find the path specified: 'O:\\\\Tech_Photonics\\\\Projects\\\\Narrow Linewidth\\\\MFB Chips\\\\Chip 3 Feedback measurements\\\\22-11\\\\beat_note'",
     "output_type": "error",
     "traceback": [
      "\u001b[1;31m---------------------------------------------------------------------------\u001b[0m",
      "\u001b[1;31mFileNotFoundError\u001b[0m                         Traceback (most recent call last)",
      "Cell \u001b[1;32mIn[3], line 45\u001b[0m\n\u001b[0;32m     42\u001b[0m     plt\u001b[38;5;241m.\u001b[39mshow()\n\u001b[0;32m     43\u001b[0m     \u001b[38;5;28;01mreturn\u001b[39;00m centers\n\u001b[1;32m---> 45\u001b[0m paths \u001b[38;5;241m=\u001b[39m \u001b[43mget_paths\u001b[49m\u001b[43m(\u001b[49m\u001b[43mdirectory\u001b[49m\u001b[43m)\u001b[49m\n\u001b[0;32m     47\u001b[0m \u001b[38;5;28;01mdef\u001b[39;00m \u001b[38;5;21mplot_beat_note\u001b[39m(path):\n\u001b[0;32m     48\u001b[0m     df \u001b[38;5;241m=\u001b[39m np\u001b[38;5;241m.\u001b[39mloadtxt(path,skiprows\u001b[38;5;241m=\u001b[39m\u001b[38;5;241m1\u001b[39m)\n",
      "File \u001b[1;32mc:\\Users\\au617810\\OneDrive - Aarhus universitet\\Videnskabelig assistent\\PICLab_narrow_linewidth\\feedback_u_shaped_laser\\U-shaped_stabilization\\file_management_lib.py:12\u001b[0m, in \u001b[0;36mget_paths\u001b[1;34m(directory)\u001b[0m\n\u001b[0;32m     10\u001b[0m \u001b[38;5;28;01mdef\u001b[39;00m \u001b[38;5;21mget_paths\u001b[39m(directory):\n\u001b[1;32m---> 12\u001b[0m     filenames \u001b[38;5;241m=\u001b[39m \u001b[43mos\u001b[49m\u001b[38;5;241;43m.\u001b[39;49m\u001b[43mlistdir\u001b[49m\u001b[43m(\u001b[49m\u001b[43mdirectory\u001b[49m\u001b[43m)\u001b[49m\n\u001b[0;32m     13\u001b[0m     \u001b[38;5;28;01mreturn\u001b[39;00m [directory \u001b[38;5;241m+\u001b[39m \u001b[38;5;124m\"\u001b[39m\u001b[38;5;130;01m\\\\\u001b[39;00m\u001b[38;5;124m\"\u001b[39m \u001b[38;5;241m+\u001b[39m e \u001b[38;5;28;01mfor\u001b[39;00m e \u001b[38;5;129;01min\u001b[39;00m filenames]\n",
      "\u001b[1;31mFileNotFoundError\u001b[0m: [WinError 3] The system cannot find the path specified: 'O:\\\\Tech_Photonics\\\\Projects\\\\Narrow Linewidth\\\\MFB Chips\\\\Chip 3 Feedback measurements\\\\22-11\\\\beat_note'"
     ]
    }
   ],
   "source": [
    "\n",
    "directory = r\"O:\\Tech_Photonics\\Projects\\Narrow Linewidth\\MFB Chips\\Chip 3 Feedback measurements\\22-11\\beat_note\"\n",
    "sample_dir = r\"O:\\Tech_Photonics\\Projects\\Narrow Linewidth\\MFB Chips\\Chip 3 Feedback measurements\\21-11\\sample2\"\n",
    "path = r\"O:\\Tech_Photonics\\Projects\\Narrow Linewidth\\MFB Chips\\Chip 3 Feedback measurements\\21-11\\beat_note\\2024-11-21_11-33-06-690521esa.txt\"\n",
    "\n",
    "\n",
    "def plot_drift(directory,xaxis,delta_time,plot=False):\n",
    "    plt.figure()\n",
    "    centers = []\n",
    "    intensities = []\n",
    "    times = []\n",
    "    time = 0\n",
    "    for path in get_paths(directory)[0:1000]:\n",
    "        time = time + delta_time\n",
    "        df = np.loadtxt(path,skiprows=1)\n",
    "        skip = 100\n",
    "        freqs = df[0,skip:]/1e6\n",
    "        ps = df[1,skip:]\n",
    "        p_max = np.max(ps)\n",
    "        if p_max > -65:\n",
    "            if plot:\n",
    "                plt.figure()\n",
    "                plt.plot(freqs,ps)\n",
    "            res = freqs[np.argmax(ps)]\n",
    "            centers.append(res)\n",
    "            times.append(time)\n",
    "            intensities.append(p_max)\n",
    "            \n",
    "        \n",
    "    centers = np.array(centers)\n",
    "    time = np.array(time)\n",
    "    #centers = centers - np.mean(centers)\n",
    "    std = np.std(centers)\n",
    "    \n",
    "    plt.plot(times, centers,'.')\n",
    "    \n",
    "    plt.xlabel(xaxis)\n",
    "    plt.ylabel('Beat note [MHz]')\n",
    "    fname = \"beat_note_sil.txt\"\n",
    "    #np.savetxt(fname, np.transpose([time,centers]))\n",
    "    plt.figure()\n",
    "    plt.plot(times,intensities,'.')\n",
    "    plt.show()\n",
    "    return centers\n",
    "\n",
    "paths = get_paths(directory)\n",
    "\n",
    "def plot_beat_note(path):\n",
    "    df = np.loadtxt(path,skiprows=1)\n",
    "    skip = 1\n",
    "    freqs = df[0,skip:]/1e6\n",
    "    ps = df[1,skip:]\n",
    "    plt.plot(freqs,ps)\n",
    "\n",
    "# for sample in get_paths(sample_dir):\n",
    "#     plt.figure()\n",
    "#     plot_beat_note(sample)\n",
    "\n",
    "centers = plot_drift(directory,'Time [s]',.6,plot=False)\n",
    "\n",
    "# plot_beat_note(paths[80])\n",
    "# plt.xlim([1100,1700])\n",
    "# plt.xlabel('Beat note [MHz]')\n",
    "# plt.ylabel('ESA power [dBm]')\n",
    "#plt.plot(centers)"
   ]
  },
  {
   "cell_type": "code",
   "execution_count": 16,
   "metadata": {},
   "outputs": [
    {
     "data": {
      "text/plain": [
       "(100.0, 120.0)"
      ]
     },
     "execution_count": 16,
     "metadata": {},
     "output_type": "execute_result"
    },
    {
     "data": {
      "image/png": "[encoded data removed]",
      "text/plain": [
       "<Figure size 1200x500 with 1 Axes>"
      ]
     },
     "metadata": {},
     "output_type": "display_data"
    }
   ],
   "source": [
    "# -*- coding: utf-8 -*-\n",
    "\"\"\"\n",
    "Created on Wed Oct 16 08:40:00 2024\n",
    "\n",
    "@author: au622616\n",
    "\"\"\"\n",
    "\n",
    "import matplotlib.pyplot as plt\n",
    "import numpy as np\n",
    "from file_management_lib import get_paths\n",
    "import lwa_lib as lwa\n",
    "from scipy.optimize import curve_fit\n",
    "\n",
    "directory = r\"O:\\Tech_Photonics\\Projects\\Narrow Linewidth\\MFB Chips\\Chip 3 Feedback measurements\\15-10\\pp_nkt_beat_note\"\n",
    "directory2 = r\"O:\\Tech_Photonics\\Projects\\Narrow Linewidth\\MFB Chips\\Chip 3 Feedback measurements\\16-10\\ushaped_nkt_beat_note\"\n",
    "directory3 = r\"O:\\Tech_Photonics\\Projects\\Narrow Linewidth\\MFB Chips\\Chip 3 Feedback measurements\\16-10\\ushaped_nkt_beat_note_long\"\n",
    "directory4 = r\"O:\\Tech_Photonics\\Projects\\Narrow Linewidth\\MFB Chips\\Chip 3 Feedback measurements\\18-10\\beat_note\"\n",
    "directory_sil = r\"O:\\Tech_Photonics\\Projects\\Narrow Linewidth\\MFB Chips\\Chip 3 Feedback measurements\\6-11\\beat_note_sil\"\n",
    "directory_passive = r\"O:\\Tech_Photonics\\Projects\\Narrow Linewidth\\MFB Chips\\Chip 3 Feedback measurements\\7-11\\beat_note\"\n",
    "directory_free_running = r\"O:\\Tech_Photonics\\Projects\\Narrow Linewidth\\MFB Chips\\Chip 3 Feedback measurements\\8-11\\beat_note_free_running\"\n",
    "directory_sil2 = r\"O:\\Tech_Photonics\\Projects\\Narrow Linewidth\\MFB Chips\\Chip 3 Feedback measurements\\8-11\\beat_note_sil_2\"\n",
    "directory_styro = r\"O:\\Tech_Photonics\\Projects\\Narrow Linewidth\\MFB Chips\\Chip 3 Feedback measurements\\11-11\\beat_note_free_running\"\n",
    "directory_styro2 = r\"O:\\Tech_Photonics\\Projects\\Narrow Linewidth\\MFB Chips\\Chip 3 Feedback measurements\\12-11\\beat_note\"\n",
    "\n",
    "path = r\"O:\\Tech_Photonics\\Projects\\Narrow Linewidth\\MFB Chips\\Chip 3 Feedback measurements\\16-10\\ushaped_nkt_beat_note_long\\2024-10-16_10-20-41esa.txt\"\n",
    "path_beat_note = r\"O:\\Tech_Photonics\\Projects\\Narrow Linewidth\\MFB Chips\\Chip 3 Feedback measurements\\16-10\\ushaped_nkt_beat_note\\2024-10-16_10-08-22esa.txt\"\n",
    "psd_path = r\"O:\\Tech_Photonics\\Projects\\Narrow Linewidth\\MFB Chips\\Chip 3 Feedback measurements\\16-10\\PSD_injection_locked.txt\"\n",
    "psd2_path = r\"O:\\Tech_Photonics\\Projects\\Narrow Linewidth\\MFB Chips\\Chip 3 Feedback measurements\\20-6-ushaped\\FN_460uW_400uW_FB.txt\"\n",
    "\n",
    "path_linewidth = r\"O:\\Tech_Photonics\\Projects\\Narrow Linewidth\\MFB Chips\\Chip 3 Feedback measurements\\6-11\\beat_note\\2024-11-06_14-07-19-207423esa.txt\"\n",
    "\n",
    "\n",
    "path_styro = r\"O:\\Tech_Photonics\\Projects\\Narrow Linewidth\\MFB Chips\\Chip 3 Feedback measurements\\11-11\\beat_note\\2024-11-08_21-11-50-414172esa.txt\"\n",
    "path_styro2 = r\"O:\\Tech_Photonics\\Projects\\Narrow Linewidth\\MFB Chips\\Chip 3 Feedback measurements\\11-11\\beat_note\\2024-11-08_21-30-11-484428esa.txt\"\n",
    "path_styro3 = r\"O:\\Tech_Photonics\\Projects\\Narrow Linewidth\\MFB Chips\\Chip 3 Feedback measurements\\11-11\\beat_note\\2024-11-09_00-57-37-808868esa.txt\"\n",
    "path_styro4 = r\"O:\\Tech_Photonics\\Projects\\Narrow Linewidth\\MFB Chips\\Chip 3 Feedback measurements\\11-11\\beat_note\\2024-11-09_02-17-00-645936esa.txt\"\n",
    "\n",
    "def plot_drift(directory,xaxis):\n",
    "    plt.figure()\n",
    "    centers = []\n",
    "    for path in get_paths(directory):\n",
    "        df = np.loadtxt(path,skiprows=1)\n",
    "        skip = 100\n",
    "        freqs = df[0,skip:]/1e6\n",
    "        ps = df[1,skip:]\n",
    "        res = freqs[np.argmax(ps)]\n",
    "        centers.append(res)\n",
    "        \n",
    "        \n",
    "    centers = np.array(centers)\n",
    "    #centers = centers - np.mean(centers)\n",
    "    std = np.std(centers)\n",
    "    \n",
    "    plt.plot(centers,'.')\n",
    "    \n",
    "    plt.xlabel(xaxis)\n",
    "    plt.ylabel('Beat note drift [MHz]')\n",
    "    return centers\n",
    "\n",
    "def plot_drift2(directory,xaxis):\n",
    "    plt.figure(figsize=[12,5])\n",
    "    centers = []\n",
    "    for path in get_paths(directory):\n",
    "        df = np.loadtxt(path,skiprows=1)\n",
    "        skip = 100\n",
    "        freqs = df[0,skip:]/1e6\n",
    "        ps = df[1,skip:]\n",
    "        res = freqs[np.argmax(ps)]\n",
    "        if res < 35000:\n",
    "            centers.append(res)\n",
    "    \n",
    "        \n",
    "    centers = np.array(centers)\n",
    "    #centers = centers - np.mean(centers)\n",
    "    std = np.std(centers)\n",
    "    \n",
    "    plt.plot(centers,'.')\n",
    "    \n",
    "    plt.xlabel(xaxis)\n",
    "    plt.ylabel('Beat note drift [MHz]')\n",
    "    return centers\n",
    "\n",
    "#plot_drift(directory4,'Time [~s]')\n",
    "#centers = plot_drift(directory_passive,'Time [min.]')\n",
    "\n",
    "def plot_beat_note(path):\n",
    "    df = np.loadtxt(path,skiprows=1)\n",
    "    skip = 1\n",
    "    freqs = df[0,skip:]/1e6\n",
    "    ps = df[1,skip:]\n",
    "    plt.plot(freqs,ps)\n",
    "\n",
    "#plot_beat_note(path_styro4)\n",
    "# plt.xlim([4694.7,4694.85])\n",
    "# plt.ylim([-60,-35])\n",
    "\n",
    "centers_styro = plot_drift2(directory_styro2,'Time [min.]')\n",
    "plt.ylim([2800,3000])\n",
    "plt.xlim([100,120])\n",
    "\n",
    "\n",
    "# plot_drift2(directory_sil,'Time [min.]')\n",
    "# plt.ylim([2800,3000])\n",
    "# plt.xlim([100,120])\n",
    "#plt.ylim([1000,1550])\n",
    "#np.savetxt('fname', X)\n",
    "\n",
    "#df = np.loadtxt(path,skiprows=1)\n",
    "\n",
    "# skip = 10\n",
    "# freqs = df[0,skip:]/1e6\n",
    "# ps = df[1,skip:]\n",
    "# res = freqs[np.argmax(ps)]\n",
    "# print(res)\n",
    "# plt.plot(freqs,ps)\n",
    "\n",
    "# psd = lwa.LWA(psd_path)\n",
    "# psd2 = lwa.LWA(psd2_path)\n",
    "\n",
    "# psd.plot()\n",
    "# psd2.plot()\n",
    "\n",
    "# def gauss(x,a,b,c):\n",
    "#     return a - b*(x-c)**2\n",
    "\n",
    "# df = np.loadtxt(path_beat_note,skiprows=1)\n",
    "# skip = 100\n",
    "# freqs = df[0,skip:]/1e6\n",
    "# ps = df[1,skip:]\n",
    "# res = freqs[np.argmax(ps)]\n",
    "# freqs = freqs - res + 8\n",
    "\n",
    "# height = -52\n",
    "# p_guess = [height,.02,0]\n",
    "# popt,_ = curve_fit(gauss,freqs,ps,p0=p_guess)\n",
    "\n",
    "# x_range = 50\n",
    "# plt.xlim(-x_range,x_range)\n",
    "# plt.ylim(-100,-40)\n",
    "# plt.xlabel('Beat note detuning [MHz]')\n",
    "# plt.ylabel('ESA power [dBm]')\n",
    "\n",
    "# plt.plot(freqs,ps)\n",
    "# plt.plot(freqs,gauss(freqs,*popt))\n",
    "# plt.plot(freqs,gauss(freqs,*p_guess))\n",
    "# plt.axhline(height - 3,color='red')'\n",
    "\n"
   ]
  },
  {
   "cell_type": "code",
   "execution_count": 17,
   "metadata": {},
   "outputs": [
    {
     "data": {
      "text/plain": [
       "[<matplotlib.lines.Line2D at 0x2284b284470>]"
      ]
     },
     "execution_count": 17,
     "metadata": {},
     "output_type": "execute_result"
    },
    {
     "data": {
      "image/png": "[encoded data removed]",
      "text/plain": [
       "<Figure size 640x480 with 1 Axes>"
      ]
     },
     "metadata": {},
     "output_type": "display_data"
    }
   ],
   "source": [
    "plt.plot(centers_styro,'.')"
   ]
  },
  {
   "cell_type": "code",
   "execution_count": 6,
   "metadata": {},
   "outputs": [
    {
     "ename": "FileNotFoundError",
     "evalue": "[WinError 3] The system cannot find the path specified: 'O:\\\\Tech_Photonics\\\\Projects\\\\Narrow Linewidth\\\\MFB Chips\\\\Chip 3 Feedback measurements\\\\6-11\\\\beat_note_sil'",
     "output_type": "error",
     "traceback": [
      "\u001b[1;31m---------------------------------------------------------------------------\u001b[0m",
      "\u001b[1;31mFileNotFoundError\u001b[0m                         Traceback (most recent call last)",
      "Cell \u001b[1;32mIn[6], line 1\u001b[0m\n\u001b[1;32m----> 1\u001b[0m centers_1 \u001b[38;5;241m=\u001b[39m \u001b[43mplot_drift\u001b[49m\u001b[43m(\u001b[49m\u001b[43mdirectory_sil\u001b[49m\u001b[43m,\u001b[49m\u001b[38;5;124;43m'\u001b[39;49m\u001b[38;5;124;43mTime [s]\u001b[39;49m\u001b[38;5;124;43m'\u001b[39;49m\u001b[43m)\u001b[49m\n\u001b[0;32m      2\u001b[0m centers_2 \u001b[38;5;241m=\u001b[39m plot_drift2(directory_sil,\u001b[38;5;124m'\u001b[39m\u001b[38;5;124mTime [s]\u001b[39m\u001b[38;5;124m'\u001b[39m)\n",
      "Cell \u001b[1;32mIn[4], line 41\u001b[0m, in \u001b[0;36mplot_drift\u001b[1;34m(directory, xaxis)\u001b[0m\n\u001b[0;32m     39\u001b[0m plt\u001b[38;5;241m.\u001b[39mfigure()\n\u001b[0;32m     40\u001b[0m centers \u001b[38;5;241m=\u001b[39m []\n\u001b[1;32m---> 41\u001b[0m \u001b[38;5;28;01mfor\u001b[39;00m path \u001b[38;5;129;01min\u001b[39;00m \u001b[43mget_paths\u001b[49m\u001b[43m(\u001b[49m\u001b[43mdirectory\u001b[49m\u001b[43m)\u001b[49m:\n\u001b[0;32m     42\u001b[0m     df \u001b[38;5;241m=\u001b[39m np\u001b[38;5;241m.\u001b[39mloadtxt(path,skiprows\u001b[38;5;241m=\u001b[39m\u001b[38;5;241m1\u001b[39m)\n\u001b[0;32m     43\u001b[0m     skip \u001b[38;5;241m=\u001b[39m \u001b[38;5;241m100\u001b[39m\n",
      "File \u001b[1;32mc:\\Users\\au617810\\OneDrive - Aarhus universitet\\Videnskabelig assistent\\PICLab_narrow_linewidth\\feedback_u_shaped_laser\\U-shaped_stabilization\\file_management_lib.py:12\u001b[0m, in \u001b[0;36mget_paths\u001b[1;34m(directory)\u001b[0m\n\u001b[0;32m     10\u001b[0m \u001b[38;5;28;01mdef\u001b[39;00m \u001b[38;5;21mget_paths\u001b[39m(directory):\n\u001b[1;32m---> 12\u001b[0m     filenames \u001b[38;5;241m=\u001b[39m \u001b[43mos\u001b[49m\u001b[38;5;241;43m.\u001b[39;49m\u001b[43mlistdir\u001b[49m\u001b[43m(\u001b[49m\u001b[43mdirectory\u001b[49m\u001b[43m)\u001b[49m\n\u001b[0;32m     13\u001b[0m     \u001b[38;5;28;01mreturn\u001b[39;00m [directory \u001b[38;5;241m+\u001b[39m \u001b[38;5;124m\"\u001b[39m\u001b[38;5;130;01m\\\\\u001b[39;00m\u001b[38;5;124m\"\u001b[39m \u001b[38;5;241m+\u001b[39m e \u001b[38;5;28;01mfor\u001b[39;00m e \u001b[38;5;129;01min\u001b[39;00m filenames]\n",
      "\u001b[1;31mFileNotFoundError\u001b[0m: [WinError 3] The system cannot find the path specified: 'O:\\\\Tech_Photonics\\\\Projects\\\\Narrow Linewidth\\\\MFB Chips\\\\Chip 3 Feedback measurements\\\\6-11\\\\beat_note_sil'"
     ]
    },
    {
     "data": {
      "text/plain": [
       "<Figure size 640x480 with 0 Axes>"
      ]
     },
     "metadata": {},
     "output_type": "display_data"
    }
   ],
   "source": [
    "centers_1 = plot_drift(directory_sil,'Time [s]')\n",
    "centers_2 = plot_drift2(directory_sil,'Time [s]')\n"
   ]
  },
  {
   "cell_type": "code",
   "execution_count": 7,
   "metadata": {},
   "outputs": [
    {
     "ename": "SyntaxError",
     "evalue": "invalid syntax (566527213.py, line 2)",
     "output_type": "error",
     "traceback": [
      "\u001b[1;36m  Cell \u001b[1;32mIn[7], line 2\u001b[1;36m\u001b[0m\n\u001b[1;33m    plt.\u001b[0m\n\u001b[1;37m        ^\u001b[0m\n\u001b[1;31mSyntaxError\u001b[0m\u001b[1;31m:\u001b[0m invalid syntax\n"
     ]
    }
   ],
   "source": [
    "plt.plot(centers_1,'.')\n",
    "plt."
   ]
  },
  {
   "cell_type": "code",
   "execution_count": 8,
   "metadata": {},
   "outputs": [
    {
     "name": "stdout",
     "output_type": "stream",
     "text": [
      "[ 3.93984672  3.54495217  3.15026024  2.75577075  2.36148357  1.96739852\n",
      "  1.57351547  1.17983424  0.78635469  0.39307666  0.         -0.39287545\n",
      " -0.78554984 -1.17802333 -1.57029607 -1.96236822 -2.35423992 -2.74591134\n",
      " -3.13738262 -3.52865392 -3.91972539]\n"
     ]
    },
    {
     "data": {
      "image/png": "[encoded data removed]",
      "text/plain": [
       "<Figure size 640x480 with 1 Axes>"
      ]
     },
     "metadata": {},
     "output_type": "display_data"
    }
   ],
   "source": [
    "def diff_wav_to_freq(wavelength1,wavelength2):\n",
    "    c = 299792458\n",
    "\n",
    "    freq1 = c/wavelength1\n",
    "    \n",
    "    freq2 = c/wavelength2\n",
    "\n",
    "    delta_freq = np.abs(freq1-freq2)\n",
    "\n",
    "    return delta_freq\n",
    "\n",
    "def wavelength_spacing_Hz(wavelength,spacing=50e9):\n",
    "    c = 299792458\n",
    "\n",
    "    freq = c/wavelength\n",
    "   \n",
    "    new_freq = np.linspace(-10,10,21)*spacing\n",
    "\n",
    "    new_freq += freq\n",
    "\n",
    "    new_wavelength = c/new_freq\n",
    "\n",
    "    return new_wavelength\n",
    "\n",
    "center_wavelength = 1535*1e-9\n",
    "\n",
    "wavelengths = wavelength_spacing_Hz(center_wavelength)\n",
    "\n",
    "plt.plot(wavelengths*1e9,np.ones(len(wavelengths)),'.',label='50 GHz spacing')\n",
    "plt.xlabel('Wavelength [nm]')\n",
    "plt.legend()\n",
    "\n",
    "print((wavelengths-center_wavelength)*1e9)"
   ]
  },
  {
   "cell_type": "code",
   "execution_count": 9,
   "metadata": {},
   "outputs": [
    {
     "data": {
      "text/plain": [
       "50.0126583583125"
      ]
     },
     "execution_count": 9,
     "metadata": {},
     "output_type": "execute_result"
    }
   ],
   "source": [
    "diff_wav_to_freq(wavelengths[1],wavelengths[0]+1e-13)*1e-9"
   ]
  },
  {
   "cell_type": "markdown",
   "metadata": {},
   "source": [
    "Requires 0.1pm precision of laser, hence resolution should be likewise. Yenista OSA is 20pm"
   ]
  },
  {
   "cell_type": "code",
   "execution_count": 13,
   "metadata": {},
   "outputs": [
    {
     "data": {
      "text/plain": [
       "2.49531663978125"
      ]
     },
     "execution_count": 13,
     "metadata": {},
     "output_type": "execute_result"
    }
   ],
   "source": [
    "diff_wav_to_freq(1550.1e-9,1550.12e-9)*1e-9"
   ]
  },
  {
   "cell_type": "code",
   "execution_count": null,
   "metadata": {},
   "outputs": [],
   "source": []
  }
 ],
 "metadata": {
  "kernelspec": {
   "display_name": "conda_env",
   "language": "python",
   "name": "python3"
  },
  "language_info": {
   "codemirror_mode": {
    "name": "ipython",
    "version": 3
   },
   "file_extension": ".py",
   "mimetype": "text/x-python",
   "name": "python",
   "nbconvert_exporter": "python",
   "pygments_lexer": "ipython3",
   "version": "3.12.0"
  }
 },
 "nbformat": 4,
 "nbformat_minor": 2
}
