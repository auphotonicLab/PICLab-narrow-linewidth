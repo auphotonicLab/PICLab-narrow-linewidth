{
 "cells": [
  {
   "cell_type": "code",
   "execution_count": 8,
   "metadata": {},
   "outputs": [],
   "source": [
    "import os\n",
    "import pandas as pd\n",
    "import numpy as np\n",
    "import matplotlib.pyplot as plt\n",
    "from scipy.optimize import curve_fit\n",
    "from scipy.stats import iqr\n",
    "import sys\n",
    "import importlib\n",
    "from itertools import chain\n",
    "from datetime import date\n",
    "\n",
    "from uslib import fit_functions as ff\n",
    "from uslib import load_data as ld\n",
    "\n",
    "import matplotlib.animation as animation\n",
    "\n",
    "\n",
    "\n"
   ]
  },
  {
   "cell_type": "code",
   "execution_count": 13,
   "metadata": {},
   "outputs": [],
   "source": [
    "data_dir = r\"O:\\Tech_Photonics\\Projects\\Narrow Linewidth\\MFB Chips\\Chip 3 Feedback measurements\\16-07\"\n",
    "\n",
    "data_dir1 = r\"O:\\Tech_Photonics\\Projects\\Narrow Linewidth\\MFB Chips\\Chip 3 Feedback measurements\\20-6-ushaped\"\n",
    "\n",
    "data_dir2 = r\"O:\\Tech_Photonics\\Projects\\Narrow Linewidth\\MFB Chips\\Chip 3 Feedback measurements\\20-09\"\n",
    "\n",
    "data_dir3 = r\"O:\\Tech_Photonics\\Projects\\Narrow Linewidth\\MFB Chips\\Chip 3 Feedback measurements\\24-09 RIN\"\n",
    "# data_dir2 = r\"O:\\Tech_Photonics\\Projects\\Narrow Linewidth\\MFB Chips\\Chip 3 Feedback measurements\\17-07 (200 avg)\"\n",
    "\n",
    "# data_dir3 = r\"O:\\Tech_Photonics\\Projects\\Narrow Linewidth\\MFB Chips\\Chip 3 Feedback measurements\\18-07\\SMSR_35dB_40avg\"\n",
    "\n",
    "# data_dir4 = r\"O:\\Tech_Photonics\\Projects\\Narrow Linewidth\\MFB Chips\\Chip 3 Feedback measurements\\18-07\\SMSR_40dB\"\n",
    "\n",
    "\n",
    "\n",
    "#data_dirs = [data_dir,data_dir1,data_dir2, data_dir3,data_dir4]\n",
    "\n",
    "# data_dirs = [data_dir,data_dir1]\n",
    "\n",
    "data_dirs = [data_dir]\n",
    "\n",
    "datasets_no = len(data_dirs)# len(data_dirs)\n",
    "\n",
    "dirs= [None for _ in range(datasets_no)]"
   ]
  },
  {
   "cell_type": "code",
   "execution_count": 14,
   "metadata": {},
   "outputs": [
    {
     "ename": "ValueError",
     "evalue": "could not convert string '1.500000000000000000e+01 -5.012285824460069250e+01' to float64 at row 0, column 1.",
     "output_type": "error",
     "traceback": [
      "\u001b[1;31m---------------------------------------------------------------------------\u001b[0m",
      "\u001b[1;31mValueError\u001b[0m                                Traceback (most recent call last)",
      "Cell \u001b[1;32mIn[14], line 2\u001b[0m\n\u001b[0;32m      1\u001b[0m \u001b[38;5;28;01mfor\u001b[39;00m i \u001b[38;5;129;01min\u001b[39;00m \u001b[38;5;28mrange\u001b[39m(datasets_no):\n\u001b[1;32m----> 2\u001b[0m     dirs[i] \u001b[38;5;241m=\u001b[39m \u001b[43mld\u001b[49m\u001b[38;5;241;43m.\u001b[39;49m\u001b[43mget_SMSR_filtered_data\u001b[49m\u001b[43m(\u001b[49m\u001b[43mdata_dirs\u001b[49m\u001b[43m[\u001b[49m\u001b[43mi\u001b[49m\u001b[43m]\u001b[49m\u001b[43m)\u001b[49m\n",
      "File \u001b[1;32mc:\\Users\\au617810\\.conda\\envs\\conda_env\\Lib\\site-packages\\uslib\\load_data.py:506\u001b[0m, in \u001b[0;36mget_SMSR_filtered_data\u001b[1;34m(directory)\u001b[0m\n\u001b[0;32m    503\u001b[0m data \u001b[38;5;241m=\u001b[39m [\u001b[38;5;28;01mNone\u001b[39;00m \u001b[38;5;28;01mfor\u001b[39;00m _ \u001b[38;5;129;01min\u001b[39;00m \u001b[38;5;28mrange\u001b[39m(no_meas)]\n\u001b[0;32m    505\u001b[0m \u001b[38;5;28;01mfor\u001b[39;00m i \u001b[38;5;129;01min\u001b[39;00m \u001b[38;5;28mrange\u001b[39m(no_meas):\n\u001b[1;32m--> 506\u001b[0m     data[i] \u001b[38;5;241m=\u001b[39m \u001b[43mget_SMSR_filtered_measurements\u001b[49m\u001b[43m(\u001b[49m\u001b[43mpaths_dir\u001b[49m\u001b[43m[\u001b[49m\u001b[43mi\u001b[49m\u001b[43m]\u001b[49m\u001b[43m,\u001b[49m\u001b[43mresults_dir\u001b[49m\u001b[43m[\u001b[49m\u001b[43mi\u001b[49m\u001b[43m]\u001b[49m\u001b[43m)\u001b[49m\n\u001b[0;32m    508\u001b[0m \u001b[38;5;28;01mreturn\u001b[39;00m data\n",
      "File \u001b[1;32mc:\\Users\\au617810\\.conda\\envs\\conda_env\\Lib\\site-packages\\uslib\\load_data.py:610\u001b[0m, in \u001b[0;36mget_SMSR_filtered_measurements\u001b[1;34m(directory, result_directory)\u001b[0m\n\u001b[0;32m    608\u001b[0m     RIN \u001b[38;5;241m=\u001b[39m \u001b[38;5;28;01mNone\u001b[39;00m\n\u001b[0;32m    609\u001b[0m \u001b[38;5;28;01melif\u001b[39;00m \u001b[38;5;28mlen\u001b[39m(path_RIN) \u001b[38;5;241m==\u001b[39m \u001b[38;5;241m1\u001b[39m:\n\u001b[1;32m--> 610\u001b[0m     RIN \u001b[38;5;241m=\u001b[39m \u001b[43mRINSpectrum\u001b[49m\u001b[43m(\u001b[49m\u001b[43mpath_RIN\u001b[49m\u001b[43m[\u001b[49m\u001b[38;5;241;43m0\u001b[39;49m\u001b[43m]\u001b[49m\u001b[43m)\u001b[49m\n\u001b[0;32m    611\u001b[0m \u001b[38;5;28;01melse\u001b[39;00m:\n\u001b[0;32m    612\u001b[0m     RIN \u001b[38;5;241m=\u001b[39m []\n",
      "File \u001b[1;32mc:\\Users\\au617810\\.conda\\envs\\conda_env\\Lib\\site-packages\\uslib\\load_data.py:778\u001b[0m, in \u001b[0;36mRINSpectrum.__init__\u001b[1;34m(self, path)\u001b[0m\n\u001b[0;32m    775\u001b[0m \u001b[38;5;28;01melse\u001b[39;00m:\n\u001b[0;32m    776\u001b[0m     \u001b[38;5;28mself\u001b[39m\u001b[38;5;241m.\u001b[39mfb_power \u001b[38;5;241m=\u001b[39m os\u001b[38;5;241m.\u001b[39mpath\u001b[38;5;241m.\u001b[39mbasename(os\u001b[38;5;241m.\u001b[39mpath\u001b[38;5;241m.\u001b[39mdirname(path))[\u001b[38;5;241m23\u001b[39m:\u001b[38;5;241m-\u001b[39m\u001b[38;5;241m2\u001b[39m] \u001b[38;5;66;03m#[µW]\u001b[39;00m\n\u001b[1;32m--> 778\u001b[0m freqs, ps, header \u001b[38;5;241m=\u001b[39m \u001b[38;5;28;43mself\u001b[39;49m\u001b[38;5;241;43m.\u001b[39;49m\u001b[43mget_data\u001b[49m\u001b[43m(\u001b[49m\u001b[43mpath\u001b[49m\u001b[43m)\u001b[49m\n\u001b[0;32m    780\u001b[0m \u001b[38;5;28mself\u001b[39m\u001b[38;5;241m.\u001b[39mfreqs \u001b[38;5;241m=\u001b[39m freqs\n\u001b[0;32m    781\u001b[0m \u001b[38;5;28mself\u001b[39m\u001b[38;5;241m.\u001b[39mpowers \u001b[38;5;241m=\u001b[39m ps\n",
      "File \u001b[1;32mc:\\Users\\au617810\\.conda\\envs\\conda_env\\Lib\\site-packages\\uslib\\load_data.py:802\u001b[0m, in \u001b[0;36mRINSpectrum.get_data\u001b[1;34m(self, path)\u001b[0m\n\u001b[0;32m    786\u001b[0m \u001b[38;5;28;01mdef\u001b[39;00m \u001b[38;5;21mget_data\u001b[39m(\u001b[38;5;28mself\u001b[39m, path):\n\u001b[0;32m    787\u001b[0m \u001b[38;5;250m    \u001b[39m\u001b[38;5;124;03m\"\"\"Returns RIN data from file path\u001b[39;00m\n\u001b[0;32m    788\u001b[0m \n\u001b[0;32m    789\u001b[0m \u001b[38;5;124;03m    Parameters\u001b[39;00m\n\u001b[1;32m   (...)\u001b[0m\n\u001b[0;32m    799\u001b[0m \u001b[38;5;124;03m        array of powers\u001b[39;00m\n\u001b[0;32m    800\u001b[0m \u001b[38;5;124;03m    \"\"\"\u001b[39;00m\n\u001b[1;32m--> 802\u001b[0m     header, df \u001b[38;5;241m=\u001b[39m \u001b[38;5;28;43mself\u001b[39;49m\u001b[38;5;241;43m.\u001b[39;49m\u001b[43mload_csv_with_header\u001b[49m\u001b[43m(\u001b[49m\u001b[43mpath\u001b[49m\u001b[43m,\u001b[49m\u001b[43mheader_lines_count\u001b[49m\u001b[38;5;241;43m=\u001b[39;49m\u001b[38;5;241;43m13\u001b[39;49m\u001b[43m)\u001b[49m\n\u001b[0;32m    804\u001b[0m     freq \u001b[38;5;241m=\u001b[39m df[:,\u001b[38;5;241m0\u001b[39m] \u001b[38;5;66;03m#Hz\u001b[39;00m\n\u001b[0;32m    805\u001b[0m     ps \u001b[38;5;241m=\u001b[39m df[:,\u001b[38;5;241m1\u001b[39m] \u001b[38;5;66;03m#dB/Hz\u001b[39;00m\n",
      "File \u001b[1;32mc:\\Users\\au617810\\.conda\\envs\\conda_env\\Lib\\site-packages\\uslib\\load_data.py:816\u001b[0m, in \u001b[0;36mRINSpectrum.load_csv_with_header\u001b[1;34m(self, filename, header_lines_count, delimiter)\u001b[0m\n\u001b[0;32m    812\u001b[0m \u001b[38;5;28;01mfor\u001b[39;00m _ \u001b[38;5;129;01min\u001b[39;00m \u001b[38;5;28mrange\u001b[39m(header_lines_count):\n\u001b[0;32m    813\u001b[0m     header_lines\u001b[38;5;241m.\u001b[39mappend(file\u001b[38;5;241m.\u001b[39mreadline()\u001b[38;5;241m.\u001b[39mstrip()\u001b[38;5;241m.\u001b[39mreplace(\u001b[38;5;124m'\u001b[39m\u001b[38;5;124m#\u001b[39m\u001b[38;5;124m'\u001b[39m,\u001b[38;5;124m'\u001b[39m\u001b[38;5;124m'\u001b[39m)\u001b[38;5;241m.\u001b[39mreplace(\u001b[38;5;124m'\u001b[39m\u001b[38;5;124m, \u001b[39m\u001b[38;5;124m'\u001b[39m,\u001b[38;5;124m'\u001b[39m\u001b[38;5;124m,\u001b[39m\u001b[38;5;124m'\u001b[39m)\u001b[38;5;241m.\u001b[39mreplace(\u001b[38;5;124m'\u001b[39m\u001b[38;5;124m:\u001b[39m\u001b[38;5;124m'\u001b[39m,\u001b[38;5;124m'\u001b[39m\u001b[38;5;124m=\u001b[39m\u001b[38;5;124m'\u001b[39m)\u001b[38;5;241m.\u001b[39mreplace(\u001b[38;5;124m'\u001b[39m\u001b[38;5;124m =\u001b[39m\u001b[38;5;124m'\u001b[39m,\u001b[38;5;124m'\u001b[39m\u001b[38;5;124m=\u001b[39m\u001b[38;5;124m'\u001b[39m)\u001b[38;5;241m.\u001b[39mreplace(\u001b[38;5;124m'\u001b[39m\u001b[38;5;124m= \u001b[39m\u001b[38;5;124m'\u001b[39m,\u001b[38;5;124m'\u001b[39m\u001b[38;5;124m=\u001b[39m\u001b[38;5;124m'\u001b[39m)\u001b[38;5;241m.\u001b[39mreplace(\u001b[38;5;124m'\u001b[39m\u001b[38;5;124m#  \u001b[39m\u001b[38;5;124m'\u001b[39m,\u001b[38;5;124m'\u001b[39m\u001b[38;5;124m'\u001b[39m)\u001b[38;5;241m.\u001b[39mreplace(\u001b[38;5;124m'\u001b[39m\u001b[38;5;124m# \u001b[39m\u001b[38;5;124m'\u001b[39m,\u001b[38;5;124m'\u001b[39m\u001b[38;5;124m'\u001b[39m))\n\u001b[1;32m--> 816\u001b[0m data \u001b[38;5;241m=\u001b[39m \u001b[43mnp\u001b[49m\u001b[38;5;241;43m.\u001b[39;49m\u001b[43mloadtxt\u001b[49m\u001b[43m(\u001b[49m\u001b[43mfile\u001b[49m\u001b[43m,\u001b[49m\u001b[43m \u001b[49m\u001b[43mdelimiter\u001b[49m\u001b[38;5;241;43m=\u001b[39;49m\u001b[43mdelimiter\u001b[49m\u001b[43m)\u001b[49m\n\u001b[0;32m    818\u001b[0m header_dict \u001b[38;5;241m=\u001b[39m \u001b[38;5;28mself\u001b[39m\u001b[38;5;241m.\u001b[39mextract_params(header_lines)\n\u001b[0;32m    819\u001b[0m \u001b[38;5;66;03m#print(header_dict)\u001b[39;00m\n",
      "File \u001b[1;32mc:\\Users\\au617810\\.conda\\envs\\conda_env\\Lib\\site-packages\\numpy\\lib\\npyio.py:1373\u001b[0m, in \u001b[0;36mloadtxt\u001b[1;34m(fname, dtype, comments, delimiter, converters, skiprows, usecols, unpack, ndmin, encoding, max_rows, quotechar, like)\u001b[0m\n\u001b[0;32m   1370\u001b[0m \u001b[38;5;28;01mif\u001b[39;00m \u001b[38;5;28misinstance\u001b[39m(delimiter, \u001b[38;5;28mbytes\u001b[39m):\n\u001b[0;32m   1371\u001b[0m     delimiter \u001b[38;5;241m=\u001b[39m delimiter\u001b[38;5;241m.\u001b[39mdecode(\u001b[38;5;124m'\u001b[39m\u001b[38;5;124mlatin1\u001b[39m\u001b[38;5;124m'\u001b[39m)\n\u001b[1;32m-> 1373\u001b[0m arr \u001b[38;5;241m=\u001b[39m \u001b[43m_read\u001b[49m\u001b[43m(\u001b[49m\u001b[43mfname\u001b[49m\u001b[43m,\u001b[49m\u001b[43m \u001b[49m\u001b[43mdtype\u001b[49m\u001b[38;5;241;43m=\u001b[39;49m\u001b[43mdtype\u001b[49m\u001b[43m,\u001b[49m\u001b[43m \u001b[49m\u001b[43mcomment\u001b[49m\u001b[38;5;241;43m=\u001b[39;49m\u001b[43mcomment\u001b[49m\u001b[43m,\u001b[49m\u001b[43m \u001b[49m\u001b[43mdelimiter\u001b[49m\u001b[38;5;241;43m=\u001b[39;49m\u001b[43mdelimiter\u001b[49m\u001b[43m,\u001b[49m\n\u001b[0;32m   1374\u001b[0m \u001b[43m            \u001b[49m\u001b[43mconverters\u001b[49m\u001b[38;5;241;43m=\u001b[39;49m\u001b[43mconverters\u001b[49m\u001b[43m,\u001b[49m\u001b[43m \u001b[49m\u001b[43mskiplines\u001b[49m\u001b[38;5;241;43m=\u001b[39;49m\u001b[43mskiprows\u001b[49m\u001b[43m,\u001b[49m\u001b[43m \u001b[49m\u001b[43musecols\u001b[49m\u001b[38;5;241;43m=\u001b[39;49m\u001b[43musecols\u001b[49m\u001b[43m,\u001b[49m\n\u001b[0;32m   1375\u001b[0m \u001b[43m            \u001b[49m\u001b[43munpack\u001b[49m\u001b[38;5;241;43m=\u001b[39;49m\u001b[43munpack\u001b[49m\u001b[43m,\u001b[49m\u001b[43m \u001b[49m\u001b[43mndmin\u001b[49m\u001b[38;5;241;43m=\u001b[39;49m\u001b[43mndmin\u001b[49m\u001b[43m,\u001b[49m\u001b[43m \u001b[49m\u001b[43mencoding\u001b[49m\u001b[38;5;241;43m=\u001b[39;49m\u001b[43mencoding\u001b[49m\u001b[43m,\u001b[49m\n\u001b[0;32m   1376\u001b[0m \u001b[43m            \u001b[49m\u001b[43mmax_rows\u001b[49m\u001b[38;5;241;43m=\u001b[39;49m\u001b[43mmax_rows\u001b[49m\u001b[43m,\u001b[49m\u001b[43m \u001b[49m\u001b[43mquote\u001b[49m\u001b[38;5;241;43m=\u001b[39;49m\u001b[43mquotechar\u001b[49m\u001b[43m)\u001b[49m\n\u001b[0;32m   1378\u001b[0m \u001b[38;5;28;01mreturn\u001b[39;00m arr\n",
      "File \u001b[1;32mc:\\Users\\au617810\\.conda\\envs\\conda_env\\Lib\\site-packages\\numpy\\lib\\npyio.py:1016\u001b[0m, in \u001b[0;36m_read\u001b[1;34m(fname, delimiter, comment, quote, imaginary_unit, usecols, skiplines, max_rows, converters, ndmin, unpack, dtype, encoding)\u001b[0m\n\u001b[0;32m   1013\u001b[0m     data \u001b[38;5;241m=\u001b[39m _preprocess_comments(data, comments, encoding)\n\u001b[0;32m   1015\u001b[0m \u001b[38;5;28;01mif\u001b[39;00m read_dtype_via_object_chunks \u001b[38;5;129;01mis\u001b[39;00m \u001b[38;5;28;01mNone\u001b[39;00m:\n\u001b[1;32m-> 1016\u001b[0m     arr \u001b[38;5;241m=\u001b[39m \u001b[43m_load_from_filelike\u001b[49m\u001b[43m(\u001b[49m\n\u001b[0;32m   1017\u001b[0m \u001b[43m        \u001b[49m\u001b[43mdata\u001b[49m\u001b[43m,\u001b[49m\u001b[43m \u001b[49m\u001b[43mdelimiter\u001b[49m\u001b[38;5;241;43m=\u001b[39;49m\u001b[43mdelimiter\u001b[49m\u001b[43m,\u001b[49m\u001b[43m \u001b[49m\u001b[43mcomment\u001b[49m\u001b[38;5;241;43m=\u001b[39;49m\u001b[43mcomment\u001b[49m\u001b[43m,\u001b[49m\u001b[43m \u001b[49m\u001b[43mquote\u001b[49m\u001b[38;5;241;43m=\u001b[39;49m\u001b[43mquote\u001b[49m\u001b[43m,\u001b[49m\n\u001b[0;32m   1018\u001b[0m \u001b[43m        \u001b[49m\u001b[43mimaginary_unit\u001b[49m\u001b[38;5;241;43m=\u001b[39;49m\u001b[43mimaginary_unit\u001b[49m\u001b[43m,\u001b[49m\n\u001b[0;32m   1019\u001b[0m \u001b[43m        \u001b[49m\u001b[43musecols\u001b[49m\u001b[38;5;241;43m=\u001b[39;49m\u001b[43musecols\u001b[49m\u001b[43m,\u001b[49m\u001b[43m \u001b[49m\u001b[43mskiplines\u001b[49m\u001b[38;5;241;43m=\u001b[39;49m\u001b[43mskiplines\u001b[49m\u001b[43m,\u001b[49m\u001b[43m \u001b[49m\u001b[43mmax_rows\u001b[49m\u001b[38;5;241;43m=\u001b[39;49m\u001b[43mmax_rows\u001b[49m\u001b[43m,\u001b[49m\n\u001b[0;32m   1020\u001b[0m \u001b[43m        \u001b[49m\u001b[43mconverters\u001b[49m\u001b[38;5;241;43m=\u001b[39;49m\u001b[43mconverters\u001b[49m\u001b[43m,\u001b[49m\u001b[43m \u001b[49m\u001b[43mdtype\u001b[49m\u001b[38;5;241;43m=\u001b[39;49m\u001b[43mdtype\u001b[49m\u001b[43m,\u001b[49m\n\u001b[0;32m   1021\u001b[0m \u001b[43m        \u001b[49m\u001b[43mencoding\u001b[49m\u001b[38;5;241;43m=\u001b[39;49m\u001b[43mencoding\u001b[49m\u001b[43m,\u001b[49m\u001b[43m \u001b[49m\u001b[43mfilelike\u001b[49m\u001b[38;5;241;43m=\u001b[39;49m\u001b[43mfilelike\u001b[49m\u001b[43m,\u001b[49m\n\u001b[0;32m   1022\u001b[0m \u001b[43m        \u001b[49m\u001b[43mbyte_converters\u001b[49m\u001b[38;5;241;43m=\u001b[39;49m\u001b[43mbyte_converters\u001b[49m\u001b[43m)\u001b[49m\n\u001b[0;32m   1024\u001b[0m \u001b[38;5;28;01melse\u001b[39;00m:\n\u001b[0;32m   1025\u001b[0m     \u001b[38;5;66;03m# This branch reads the file into chunks of object arrays and then\u001b[39;00m\n\u001b[0;32m   1026\u001b[0m     \u001b[38;5;66;03m# casts them to the desired actual dtype.  This ensures correct\u001b[39;00m\n\u001b[0;32m   1027\u001b[0m     \u001b[38;5;66;03m# string-length and datetime-unit discovery (like `arr.astype()`).\u001b[39;00m\n\u001b[0;32m   1028\u001b[0m     \u001b[38;5;66;03m# Due to chunking, certain error reports are less clear, currently.\u001b[39;00m\n\u001b[0;32m   1029\u001b[0m     \u001b[38;5;28;01mif\u001b[39;00m filelike:\n",
      "\u001b[1;31mValueError\u001b[0m: could not convert string '1.500000000000000000e+01 -5.012285824460069250e+01' to float64 at row 0, column 1."
     ]
    }
   ],
   "source": [
    "for i in range(datasets_no):\n",
    "    dirs[i] = ld.get_SMSR_filtered_data(data_dirs[i])"
   ]
  },
  {
   "cell_type": "code",
   "execution_count": null,
   "metadata": {},
   "outputs": [],
   "source": [
    "# for i in range(len(dirs[0])):\n",
    "\n",
    "#     if i%2 == 0:\n",
    "            \n",
    "#         try:\n",
    "#             plt.figure()\n",
    "#             plt.plot(dirs[0][i][5][0].times,dirs[0][i][5][0].voltages,'--')\n",
    "#             #plt.ylim([-140,-60])\n",
    "#         except:\n",
    "#             pass"
   ]
  },
  {
   "cell_type": "code",
   "execution_count": null,
   "metadata": {},
   "outputs": [],
   "source": [
    "def dB_to_linear(datapoint_in_dB):\n",
    "\n",
    "    return 10**(datapoint_in_dB/10)\n",
    "\n",
    "def linear_to_dB(datapoint_linear):\n",
    "\n",
    "    return 10*np.log10(datapoint_linear)\n",
    "\n",
    "def p_to_micro(p_string:str):\n",
    "\n",
    "    p_string = p_string.replace(\"p\",\"0.\")\n",
    "\n",
    "    return p_string"
   ]
  },
  {
   "cell_type": "code",
   "execution_count": null,
   "metadata": {},
   "outputs": [
    {
     "ename": "IndexError",
     "evalue": "list index out of range",
     "output_type": "error",
     "traceback": [
      "\u001b[1;31m---------------------------------------------------------------------------\u001b[0m",
      "\u001b[1;31mIndexError\u001b[0m                                Traceback (most recent call last)",
      "Cell \u001b[1;32mIn[6], line 1\u001b[0m\n\u001b[1;32m----> 1\u001b[0m \u001b[38;5;28;01mfor\u001b[39;00m i \u001b[38;5;129;01min\u001b[39;00m \u001b[38;5;28mrange\u001b[39m(\u001b[38;5;28mlen\u001b[39m(\u001b[43mdirs\u001b[49m\u001b[43m[\u001b[49m\u001b[38;5;241;43m1\u001b[39;49m\u001b[43m]\u001b[49m[\u001b[38;5;241m0\u001b[39m][\u001b[38;5;241m4\u001b[39m])):\n\u001b[0;32m      2\u001b[0m     fb_powers \u001b[38;5;241m=\u001b[39m p_to_micro(dirs[\u001b[38;5;241m1\u001b[39m][\u001b[38;5;241m0\u001b[39m][\u001b[38;5;241m4\u001b[39m][i]\u001b[38;5;241m.\u001b[39mfb_power)\n\u001b[0;32m      3\u001b[0m     \u001b[38;5;28mprint\u001b[39m(fb_powers)\n",
      "\u001b[1;31mIndexError\u001b[0m: list index out of range"
     ]
    }
   ],
   "source": [
    "for i in range(len(dirs[1][0][4])):\n",
    "    fb_powers = p_to_micro(dirs[1][0][4][i].fb_power)\n",
    "    print(fb_powers)\n"
   ]
  },
  {
   "cell_type": "code",
   "execution_count": null,
   "metadata": {},
   "outputs": [
    {
     "data": {
      "text/plain": [
       "<uslib.load_data.RINSpectrum at 0x211f3bc0ef0>"
      ]
     },
     "execution_count": 11,
     "metadata": {},
     "output_type": "execute_result"
    }
   ],
   "source": [
    "dirs[0][0][4][0]"
   ]
  },
  {
   "cell_type": "code",
   "execution_count": null,
   "metadata": {},
   "outputs": [
    {
     "name": "stderr",
     "output_type": "stream",
     "text": [
      "C:\\Users\\au617810\\AppData\\Local\\Temp\\ipykernel_10812\\273873621.py:3: RuntimeWarning: overflow encountered in scalar power\n",
      "  return 10**(datapoint_in_dB/10)\n"
     ]
    }
   ],
   "source": [
    "no_RIN_values = int(len(dirs[0]))\n",
    "\n",
    "single_RIN_values = [None for _ in range(no_RIN_values)]\n",
    "ps = [None for _ in range(no_RIN_values)]\n",
    "fs = [None for _ in range(no_RIN_values)]\n",
    "fb_powers = [None for _ in range(no_RIN_values)]\n",
    "\n",
    "\n",
    "ps_linear = [[None for _ in range(int(200e3))] for _ in range(no_RIN_values)]\n",
    "\n",
    "\n",
    "\n",
    "\n",
    "for i in range(no_RIN_values):\n",
    "    \n",
    "    if dirs[0][i][4] != None:\n",
    "        fs[i] = dirs[0][i][4][0].freqs\n",
    "        ps[i] = dirs[0][i][4][0].powers\n",
    "        fb_powers[i] = dirs[0][i][4][0].fb_power\n",
    "\n",
    "        for number, datapoint in enumerate(ps[i]):\n",
    "            datapoint_linear = dB_to_linear(datapoint)\n",
    "\n",
    "            ps_linear[i][number] = datapoint_linear\n",
    "\n",
    "        single_RIN_values[i] = linear_to_dB( sum(ps_linear[i])*50 ) #Hz, summing all the datapoints and multiplying with the bandwidth, converting to dB\n",
    "\n",
    "fb_powers = [float(power) for power in fb_powers if power != None]\n",
    "single_RIN_values = [rin for rin in single_RIN_values if rin != None]"
   ]
  },
  {
   "cell_type": "code",
   "execution_count": null,
   "metadata": {},
   "outputs": [
    {
     "ename": "NameError",
     "evalue": "name 'fb_powers_EDFA_free' is not defined",
     "output_type": "error",
     "traceback": [
      "\u001b[1;31m---------------------------------------------------------------------------\u001b[0m",
      "\u001b[1;31mNameError\u001b[0m                                 Traceback (most recent call last)",
      "Cell \u001b[1;32mIn[8], line 2\u001b[0m\n\u001b[0;32m      1\u001b[0m plt\u001b[38;5;241m.\u001b[39mfigure(\u001b[38;5;241m0\u001b[39m)\n\u001b[1;32m----> 2\u001b[0m \u001b[38;5;28;01mfor\u001b[39;00m i \u001b[38;5;129;01min\u001b[39;00m \u001b[38;5;28mrange\u001b[39m(\u001b[38;5;28mlen\u001b[39m(\u001b[43mfb_powers_EDFA_free\u001b[49m)):\n\u001b[0;32m      4\u001b[0m     plt\u001b[38;5;241m.\u001b[39mplot(fs_EDFA_free[i],ps_EDFA_free[i],label\u001b[38;5;241m=\u001b[39mfb_powers_EDFA_free[i])\n\u001b[0;32m      5\u001b[0m     \u001b[38;5;66;03m#plt.plot(fs[0],ps[0],label=fb_powers[0])\u001b[39;00m\n",
      "\u001b[1;31mNameError\u001b[0m: name 'fb_powers_EDFA_free' is not defined"
     ]
    },
    {
     "data": {
      "text/plain": [
       "<Figure size 640x480 with 0 Axes>"
      ]
     },
     "metadata": {},
     "output_type": "display_data"
    }
   ],
   "source": [
    "plt.figure(0)\n",
    "for i in range(len(fb_powers_EDFA_free)):\n",
    "    \n",
    "    plt.plot(fs_EDFA_free[i],ps_EDFA_free[i],label=fb_powers_EDFA_free[i])\n",
    "    #plt.plot(fs[0],ps[0],label=fb_powers[0])\n",
    "    plt.xscale(\"log\")\n",
    "    plt.legend()"
   ]
  },
  {
   "cell_type": "code",
   "execution_count": null,
   "metadata": {},
   "outputs": [
    {
     "ename": "NameError",
     "evalue": "name 'fb_powers_EDFA_free' is not defined",
     "output_type": "error",
     "traceback": [
      "\u001b[1;31m---------------------------------------------------------------------------\u001b[0m",
      "\u001b[1;31mNameError\u001b[0m                                 Traceback (most recent call last)",
      "Cell \u001b[1;32mIn[9], line 2\u001b[0m\n\u001b[0;32m      1\u001b[0m plt\u001b[38;5;241m.\u001b[39mfigure(\u001b[38;5;241m0\u001b[39m)\n\u001b[1;32m----> 2\u001b[0m \u001b[38;5;28;01mfor\u001b[39;00m i \u001b[38;5;129;01min\u001b[39;00m \u001b[38;5;28mrange\u001b[39m(\u001b[38;5;28mlen\u001b[39m(\u001b[43mfb_powers_EDFA_free\u001b[49m)):\n\u001b[0;32m      4\u001b[0m     \u001b[38;5;28;01mif\u001b[39;00m \u001b[38;5;28mabs\u001b[39m(fb_powers_EDFA_free[i]\u001b[38;5;241m-\u001b[39m\u001b[38;5;241m0.05\u001b[39m) \u001b[38;5;241m<\u001b[39m \u001b[38;5;241m0.003\u001b[39m:\n\u001b[0;32m      5\u001b[0m         plt\u001b[38;5;241m.\u001b[39mplot(fs_EDFA_free[i],ps_EDFA_free[i],label\u001b[38;5;241m=\u001b[39mfb_powers_EDFA_free[i])\n",
      "\u001b[1;31mNameError\u001b[0m: name 'fb_powers_EDFA_free' is not defined"
     ]
    },
    {
     "data": {
      "text/plain": [
       "<Figure size 640x480 with 0 Axes>"
      ]
     },
     "metadata": {},
     "output_type": "display_data"
    }
   ],
   "source": [
    "plt.figure(0)\n",
    "for i in range(len(fb_powers_EDFA_free)):\n",
    "    \n",
    "    if abs(fb_powers_EDFA_free[i]-0.05) < 0.003:\n",
    "        plt.plot(fs_EDFA_free[i],ps_EDFA_free[i],label=fb_powers_EDFA_free[i])\n",
    "    #plt.plot(fs[0],ps[0],label=fb_powers[0])\n",
    "\n",
    "for i in range(len(fb_powers)):\n",
    "\n",
    "    if abs(fb_powers[i]-0.05) < 0.003:\n",
    "        plt.plot(fs[i],ps[i],alpha=0.7,label=f'{fb_powers[i]}+,EDFA')\n",
    "\n",
    "        #plt.plot(fs[0],ps[0],label=fb_powers[0])\n",
    "plt.xscale(\"log\")\n",
    "plt.legend()"
   ]
  },
  {
   "cell_type": "code",
   "execution_count": null,
   "metadata": {},
   "outputs": [
    {
     "ename": "IndexError",
     "evalue": "list index out of range",
     "output_type": "error",
     "traceback": [
      "\u001b[1;31m---------------------------------------------------------------------------\u001b[0m",
      "\u001b[1;31mIndexError\u001b[0m                                Traceback (most recent call last)",
      "Cell \u001b[1;32mIn[13], line 1\u001b[0m\n\u001b[1;32m----> 1\u001b[0m \u001b[38;5;28mlen\u001b[39m(\u001b[43mfs\u001b[49m\u001b[43m[\u001b[49m\u001b[38;5;241;43m17\u001b[39;49m\u001b[43m]\u001b[49m)\n",
      "\u001b[1;31mIndexError\u001b[0m: list index out of range"
     ]
    }
   ],
   "source": [
    "len(fs[17])"
   ]
  },
  {
   "cell_type": "code",
   "execution_count": null,
   "metadata": {},
   "outputs": [
    {
     "data": {
      "text/plain": [
       "<matplotlib.legend.Legend at 0x211f566b080>"
      ]
     },
     "execution_count": 14,
     "metadata": {},
     "output_type": "execute_result"
    },
    {
     "data": {
      "image/png": "[encoded data removed]",
      "text/plain": [
       "<Figure size 640x480 with 1 Axes>"
      ]
     },
     "metadata": {},
     "output_type": "display_data"
    }
   ],
   "source": [
    "plt.figure(1)\n",
    "for i in range(len(fb_powers)):\n",
    "\n",
    "    try:\n",
    "        plt.plot(fs[i],ps[i],label=fb_powers[i])\n",
    "    except:\n",
    "        pass\n",
    "\n",
    "        #plt.plot(fs[0],ps[0],label=fb_powers[0])\n",
    "plt.xscale(\"log\")\n",
    "plt.legend()"
   ]
  },
  {
   "cell_type": "code",
   "execution_count": null,
   "metadata": {},
   "outputs": [],
   "source": [
    "dir_no = 0\n",
    "\n",
    "no_RIN_values_EDFA_free = int(len(dirs[dir_no][0][4]))\n",
    "\n",
    "single_RIN_values_EDFA_free = [None for _ in range(no_RIN_values_EDFA_free)]\n",
    "ps_EDFA_free = [None for _ in range(no_RIN_values_EDFA_free)]\n",
    "fs_EDFA_free = [None for _ in range(no_RIN_values_EDFA_free)]\n",
    "fb_powers_EDFA_free = [None for _ in range(no_RIN_values_EDFA_free)]\n",
    "\n",
    "\n",
    "ps_linear_EDFA_free = [[None for _ in range(int(200e3))] for _ in range(no_RIN_values_EDFA_free)]\n",
    "\n",
    "\n",
    "\n",
    "\n",
    "for i in range(no_RIN_values_EDFA_free):\n",
    "    \n",
    "    if dirs[dir_no][0][4][i] != None:\n",
    "\n",
    "        if dirs[dir_no][0][4][i].header['Outputmode'] == 'RIN mode':\n",
    "            fs_EDFA_free[i] = dirs[dir_no][0][4][i].freqs\n",
    "            ps_EDFA_free[i] = dirs[dir_no][0][4][i].powers\n",
    "            fb_powers_EDFA_free[i] = p_to_micro(dirs[dir_no][0][4][i].fb_power)\n",
    "\n",
    "            for number, datapoint in enumerate(ps_EDFA_free[i]):\n",
    "                datapoint_linear = dB_to_linear(datapoint)\n",
    "\n",
    "                ps_linear_EDFA_free[i][number] = datapoint_linear\n",
    "\n",
    "            single_RIN_values_EDFA_free[i] = linear_to_dB( sum(ps_linear_EDFA_free[i])*50 ) #Hz, summing all the datapoints and multiplying with the bandwidth, converting to dB\n",
    "\n",
    "fb_powers_EDFA_free = [float(power) for power in fb_powers_EDFA_free if power != None]\n",
    "single_RIN_values_EDFA_free = [rin for rin in single_RIN_values_EDFA_free if rin != None]"
   ]
  },
  {
   "cell_type": "code",
   "execution_count": null,
   "metadata": {},
   "outputs": [],
   "source": []
  },
  {
   "cell_type": "code",
   "execution_count": null,
   "metadata": {},
   "outputs": [
    {
     "data": {
      "text/plain": [
       "[206.0, 72.0, 208.0, 52.0, 205.6, 72.0, 206.5, 52.0]"
      ]
     },
     "execution_count": 14,
     "metadata": {},
     "output_type": "execute_result"
    }
   ],
   "source": [
    "fb_powers_EDFA_free"
   ]
  },
  {
   "cell_type": "code",
   "execution_count": null,
   "metadata": {},
   "outputs": [
    {
     "data": {
      "text/plain": [
       "[<matplotlib.lines.Line2D at 0x205f64536b0>]"
      ]
     },
     "execution_count": 16,
     "metadata": {},
     "output_type": "execute_result"
    },
    {
     "data": {
      "image/png": "[encoded data removed]",
      "text/plain": [
       "<Figure size 640x480 with 1 Axes>"
      ]
     },
     "metadata": {},
     "output_type": "display_data"
    }
   ],
   "source": [
    "plt.plot(fs_EDFA_free[4],ps_EDFA_free[4])"
   ]
  },
  {
   "cell_type": "code",
   "execution_count": null,
   "metadata": {},
   "outputs": [
    {
     "name": "stdout",
     "output_type": "stream",
     "text": [
      "{'Device': 'LWA-1k 1550//SN', 'Datatype': 'Frequencynoise', 'Timestamp': 17.0, 'OpticalPower': 610.5, 'Outputmode': 'FN mode', 'Range[V]': 1.0, 'Range[Hz]': 50.0, 'Averaging': 1.0, 'Av count': 10.0, 'Binning mode': 7.0, 'Effective': 3919034.41830099, 'Intrinsic': 980894.177577088}\n",
      "{'Device': 'LWA-1k 1550//SN', 'Datatype': 'Frequencynoise', 'Timestamp': 17.0, 'OpticalPower': 552.0, 'Outputmode': 'FN mode', 'Range[V]': 1.0, 'Range[Hz]': 50.0, 'Averaging': 1.0, 'Av count': 10.0, 'Binning mode': 7.0, 'Effective': 6385976.78106678, 'Intrinsic': 533597.795343398}\n",
      "{'Device': 'LWA-1k 1550//SN', 'Datatype': 'Frequencynoise', 'Timestamp': 16.0, 'OpticalPower': 1353.0, 'Outputmode': 'FN mode', 'Range[V]': 100.0, 'Range[Hz]': 50.0, 'Averaging': 1.0, 'Av count': 10.0, 'Binning mode': 7.0, 'Effective': 15204.1598271709, 'Intrinsic': 134.927013917272}\n",
      "{'Device': 'LWA-1k 1550//SN', 'Datatype': 'Frequencynoise', 'Timestamp': 18.0, 'OpticalPower': 601.5, 'Outputmode': 'FN mode', 'Range[V]': 200.0, 'Range[Hz]': 50.0, 'Averaging': 1.0, 'Av count': 10.0, 'Binning mode': 7.0, 'Effective': 488389.973412494, 'Intrinsic': 1928.36763352053}\n",
      "{'Device': 'LWA-1k 1550//SN', 'Datatype': 'Frequencynoise', 'Timestamp': 17.0, 'OpticalPower': 603.5, 'Outputmode': 'RIN mode', 'Range[V]': 100.0, 'Range[Hz]': 50.0, 'Averaging': 1.0, 'Av count': 10.0, 'Binning mode': 7.0, 'Effective': 4078375.18235498, 'Intrinsic': 1118330.00818501}\n",
      "{'Device': 'LWA-1k 1550//SN', 'Datatype': 'Frequencynoise', 'Timestamp': 17.0, 'OpticalPower': 551.5, 'Outputmode': 'RIN mode', 'Range[V]': 50.0, 'Range[Hz]': 50.0, 'Averaging': 1.0, 'Av count': 10.0, 'Binning mode': 7.0, 'Effective': 6230038.01142032, 'Intrinsic': 546583.662050933}\n",
      "{'Device': 'LWA-1k 1550//SN', 'Datatype': 'Frequencynoise', 'Timestamp': 16.0, 'OpticalPower': 1332.0, 'Outputmode': 'RIN mode', 'Range[V]': 50.0, 'Range[Hz]': 50.0, 'Averaging': 1.0, 'Av count': 10.0, 'Binning mode': 7.0, 'Effective': 315253.220885942, 'Intrinsic': 95.203787306695}\n",
      "{'Device': 'LWA-1k 1550//SN', 'Datatype': 'Frequencynoise', 'Timestamp': 18.0, 'OpticalPower': 600.5, 'Outputmode': 'RIN mode', 'Range[V]': 50.0, 'Range[Hz]': 50.0, 'Averaging': 1.0, 'Av count': 10.0, 'Binning mode': 7.0, 'Effective': 751664.97426724, 'Intrinsic': 1396.91243604403}\n"
     ]
    }
   ],
   "source": [
    "for i in range(8):\n",
    "    print(dirs[0][0][4][i].header)"
   ]
  },
  {
   "cell_type": "code",
   "execution_count": null,
   "metadata": {},
   "outputs": [
    {
     "data": {
      "text/plain": [
       "'RIN mode'"
      ]
     },
     "execution_count": 20,
     "metadata": {},
     "output_type": "execute_result"
    }
   ],
   "source": [
    "dirs[0][0][4][i].header['Outputmode']"
   ]
  },
  {
   "cell_type": "code",
   "execution_count": null,
   "metadata": {},
   "outputs": [
    {
     "data": {
      "text/plain": [
       "[-56.01626791614733,\n",
       " -56.182816970642804,\n",
       " -56.170228325677286,\n",
       " -56.31171828037013]"
      ]
     },
     "execution_count": 25,
     "metadata": {},
     "output_type": "execute_result"
    }
   ],
   "source": [
    "single_RIN_values_EDFA_free"
   ]
  },
  {
   "cell_type": "code",
   "execution_count": null,
   "metadata": {},
   "outputs": [
    {
     "data": {
      "text/plain": [
       "[205.6, 72.0, 206.5, 52.0]"
      ]
     },
     "execution_count": 28,
     "metadata": {},
     "output_type": "execute_result"
    }
   ],
   "source": [
    "fb_powers_EDFA_free"
   ]
  },
  {
   "cell_type": "code",
   "execution_count": null,
   "metadata": {},
   "outputs": [
    {
     "data": {
      "text/plain": [
       "<matplotlib.legend.Legend at 0x20585510650>"
      ]
     },
     "execution_count": 29,
     "metadata": {},
     "output_type": "execute_result"
    },
    {
     "data": {
      "image/png": "[encoded data removed]",
      "text/plain": [
       "<Figure size 640x480 with 1 Axes>"
      ]
     },
     "metadata": {},
     "output_type": "display_data"
    }
   ],
   "source": [
    "plt.figure()\n",
    "plt.title('Comparison with coh optimized and low fb integrated RIN')\n",
    "# plt.plot(fb_powers,single_RIN_values,'.', label='With EDFA')\n",
    "plt.plot(fb_powers_EDFA_free,single_RIN_values_EDFA_free,'.',label='Aligned')\n",
    "plt.plot(fb_powers_EDFA_free[2],single_RIN_values_EDFA_free[2],'r.',label='Misaligned')\n",
    "plt.xlabel('FB power [µW]')\n",
    "plt.ylabel('RIN [dB]')\n",
    "# plt.xscale('log')\n",
    "plt.ylim([-95,-45])\n",
    "plt.legend()\n",
    "\n",
    "#plt.savefig(r'./RINvsFB.png')\n",
    "#plt.savefig(r'./RINvsFB.pdf')\n",
    "#np.savetxt(r'./RINvsFB.txt',np.transpose([fb_powers, single_RIN_values]),header='RIN vs feedback \\nRIN was calculated by transforming dB/Hz to linear scale, summing all datapoints and multiplying with 50Hz (bandwidth). Then transforming linear scale to dB again. \\nFB powers [µW], RIN [dB]')"
   ]
  },
  {
   "cell_type": "code",
   "execution_count": null,
   "metadata": {},
   "outputs": [
    {
     "data": {
      "text/plain": [
       "([-59.70728291492585,\n",
       "  -63.90375095586482,\n",
       "  -62.908526548753684,\n",
       "  -64.5050993487394,\n",
       "  -60.46892325470357,\n",
       "  -62.115311209604805,\n",
       "  -59.57856598715094,\n",
       "  -62.814425514519215,\n",
       "  -69.60599886381107,\n",
       "  -69.89322427855969,\n",
       "  -70.289858463853,\n",
       "  -63.43356100090609],\n",
       " [-50.308132258707765,\n",
       "  -49.93091476617248,\n",
       "  -50.1159026706673,\n",
       "  -50.523066092837524,\n",
       "  -50.4303584833643,\n",
       "  -50.326384686884246,\n",
       "  -50.24327977620841,\n",
       "  -50.394037502302126,\n",
       "  -49.69038995571111,\n",
       "  -50.12285824460069,\n",
       "  -50.12285824460069,\n",
       "  -50.19985305018035,\n",
       "  -50.14585231984134,\n",
       "  -49.87097473915641,\n",
       "  -49.55270397848813,\n",
       "  -49.73142152250528,\n",
       "  -49.840785653612514,\n",
       "  -49.738859657570046,\n",
       "  -49.57518474997899,\n",
       "  -49.52816981985335,\n",
       "  -49.738859657570046,\n",
       "  -49.51606224537088,\n",
       "  -49.549777588975715,\n",
       "  -49.6441181373175,\n",
       "  -49.61440924826288,\n",
       "  -49.49633847738504,\n",
       "  -49.344064465020985,\n",
       "  -49.33963078174301,\n",
       "  -49.87670581522653,\n",
       "  -49.93378307162948,\n",
       "  -49.639943944347436,\n",
       "  -49.63295649979317,\n",
       "  -49.8190892181481])"
      ]
     },
     "execution_count": 63,
     "metadata": {},
     "output_type": "execute_result"
    }
   ],
   "source": [
    "single_RIN_values_EDFA_free,single_RIN_values"
   ]
  },
  {
   "cell_type": "code",
   "execution_count": null,
   "metadata": {},
   "outputs": [
    {
     "data": {
      "text/plain": [
       "1533.3333333333333"
      ]
     },
     "execution_count": 67,
     "metadata": {},
     "output_type": "execute_result"
    }
   ],
   "source": [
    "1/(1/920-1/2300)"
   ]
  },
  {
   "cell_type": "code",
   "execution_count": null,
   "metadata": {},
   "outputs": [],
   "source": [
    "# for i in range(len(dirs[0])):\n",
    "#     try:\n",
    "#         plt.figure()\n",
    "#         dirs[0][i][4].plot()\n",
    "#         plt.ylim([-140,-60])\n",
    "#     except:\n",
    "#         pass\n",
    "\n",
    "#50Hz bandwidth, convert to linear, then sum all datapoints and multiply with bandwidth to obtain single value for RIN."
   ]
  },
  {
   "cell_type": "code",
   "execution_count": null,
   "metadata": {},
   "outputs": [
    {
     "data": {
      "image/png": "[encoded data removed]",
      "text/plain": [
       "<Figure size 640x480 with 1 Axes>"
      ]
     },
     "metadata": {},
     "output_type": "display_data"
    }
   ],
   "source": [
    "dirs[0][0][2][0].plot()"
   ]
  },
  {
   "cell_type": "code",
   "execution_count": null,
   "metadata": {},
   "outputs": [
    {
     "data": {
      "text/plain": [
       "[<uslib.load_data.DshSpectrum at 0x24b4d6a4bc0>,\n",
       " <uslib.load_data.DshSpectrum at 0x24b3f0aea50>,\n",
       " <uslib.load_data.DshSpectrum at 0x24b3f0aec00>,\n",
       " <uslib.load_data.DshSpectrum at 0x24b4d6a4c50>,\n",
       " <uslib.load_data.DshSpectrum at 0x24b4d6a4c80>,\n",
       " <uslib.load_data.DshSpectrum at 0x24b4d6a4cb0>,\n",
       " <uslib.load_data.DshSpectrum at 0x24b4d6a4ce0>,\n",
       " <uslib.load_data.DshSpectrum at 0x24b4d6a4d10>,\n",
       " <uslib.load_data.DshSpectrum at 0x24b4d6a4d40>,\n",
       " <uslib.load_data.DshSpectrum at 0x24b400ced80>,\n",
       " <uslib.load_data.DshSpectrum at 0x24b3f0ae9f0>,\n",
       " <uslib.load_data.DshSpectrum at 0x24b4d6a4dd0>,\n",
       " <uslib.load_data.DshSpectrum at 0x24b400cf050>,\n",
       " <uslib.load_data.DshSpectrum at 0x24b4d6a51f0>,\n",
       " <uslib.load_data.DshSpectrum at 0x24b4d6a6480>,\n",
       " <uslib.load_data.DshSpectrum at 0x24b4d6a5280>,\n",
       " <uslib.load_data.DshSpectrum at 0x24b3ee47200>,\n",
       " <uslib.load_data.DshSpectrum at 0x24b4d6a50d0>,\n",
       " <uslib.load_data.DshSpectrum at 0x24b4d6a5340>,\n",
       " <uslib.load_data.DshSpectrum at 0x24b4d6a5310>]"
      ]
     },
     "execution_count": 25,
     "metadata": {},
     "output_type": "execute_result"
    }
   ],
   "source": [
    "dirs[0][0][2]"
   ]
  },
  {
   "cell_type": "code",
   "execution_count": null,
   "metadata": {},
   "outputs": [],
   "source": [
    "### REMEMBER to update result list for 684µW with newly extracted linewidths!!! ###"
   ]
  },
  {
   "cell_type": "code",
   "execution_count": null,
   "metadata": {},
   "outputs": [
    {
     "data": {
      "text/plain": [
       "[[[None,\n",
       "   None,\n",
       "   None,\n",
       "   None,\n",
       "   None,\n",
       "   None,\n",
       "   None,\n",
       "   None,\n",
       "   None,\n",
       "   None,\n",
       "   None,\n",
       "   None,\n",
       "   None,\n",
       "   None,\n",
       "   None,\n",
       "   None,\n",
       "   None,\n",
       "   None,\n",
       "   None,\n",
       "   None],\n",
       "  [None,\n",
       "   None,\n",
       "   None,\n",
       "   None,\n",
       "   None,\n",
       "   None,\n",
       "   None,\n",
       "   None,\n",
       "   None,\n",
       "   None,\n",
       "   None,\n",
       "   None,\n",
       "   None,\n",
       "   None,\n",
       "   None,\n",
       "   None,\n",
       "   None,\n",
       "   None,\n",
       "   None,\n",
       "   None],\n",
       "  [None,\n",
       "   None,\n",
       "   None,\n",
       "   None,\n",
       "   None,\n",
       "   None,\n",
       "   None,\n",
       "   None,\n",
       "   None,\n",
       "   None,\n",
       "   None,\n",
       "   None,\n",
       "   None,\n",
       "   None,\n",
       "   None,\n",
       "   None,\n",
       "   None,\n",
       "   None,\n",
       "   None,\n",
       "   None],\n",
       "  [None,\n",
       "   None,\n",
       "   None,\n",
       "   None,\n",
       "   None,\n",
       "   None,\n",
       "   None,\n",
       "   None,\n",
       "   None,\n",
       "   None,\n",
       "   None,\n",
       "   None,\n",
       "   None,\n",
       "   None,\n",
       "   None,\n",
       "   None,\n",
       "   None,\n",
       "   None,\n",
       "   None,\n",
       "   None],\n",
       "  [None,\n",
       "   None,\n",
       "   None,\n",
       "   None,\n",
       "   None,\n",
       "   None,\n",
       "   None,\n",
       "   None,\n",
       "   None,\n",
       "   None,\n",
       "   None,\n",
       "   None,\n",
       "   None,\n",
       "   None,\n",
       "   None,\n",
       "   None,\n",
       "   None,\n",
       "   None,\n",
       "   None,\n",
       "   None],\n",
       "  [None,\n",
       "   None,\n",
       "   None,\n",
       "   None,\n",
       "   None,\n",
       "   None,\n",
       "   None,\n",
       "   None,\n",
       "   None,\n",
       "   None,\n",
       "   None,\n",
       "   None,\n",
       "   None,\n",
       "   None,\n",
       "   None,\n",
       "   None,\n",
       "   None,\n",
       "   None,\n",
       "   None,\n",
       "   None],\n",
       "  [None,\n",
       "   None,\n",
       "   None,\n",
       "   None,\n",
       "   None,\n",
       "   None,\n",
       "   None,\n",
       "   None,\n",
       "   None,\n",
       "   None,\n",
       "   None,\n",
       "   None,\n",
       "   None,\n",
       "   None,\n",
       "   None,\n",
       "   None,\n",
       "   None,\n",
       "   None,\n",
       "   None,\n",
       "   None],\n",
       "  [None,\n",
       "   None,\n",
       "   None,\n",
       "   None,\n",
       "   None,\n",
       "   None,\n",
       "   None,\n",
       "   None,\n",
       "   None,\n",
       "   None,\n",
       "   None,\n",
       "   None,\n",
       "   None,\n",
       "   None,\n",
       "   None,\n",
       "   None,\n",
       "   None,\n",
       "   None,\n",
       "   None,\n",
       "   None],\n",
       "  [None,\n",
       "   None,\n",
       "   None,\n",
       "   None,\n",
       "   None,\n",
       "   None,\n",
       "   None,\n",
       "   None,\n",
       "   None,\n",
       "   None,\n",
       "   None,\n",
       "   None,\n",
       "   None,\n",
       "   None,\n",
       "   None,\n",
       "   None,\n",
       "   None,\n",
       "   None,\n",
       "   None,\n",
       "   None],\n",
       "  [None,\n",
       "   None,\n",
       "   None,\n",
       "   None,\n",
       "   None,\n",
       "   None,\n",
       "   None,\n",
       "   None,\n",
       "   None,\n",
       "   None,\n",
       "   None,\n",
       "   None,\n",
       "   None,\n",
       "   None,\n",
       "   None,\n",
       "   None,\n",
       "   None,\n",
       "   None,\n",
       "   None,\n",
       "   None],\n",
       "  [None,\n",
       "   None,\n",
       "   None,\n",
       "   None,\n",
       "   None,\n",
       "   None,\n",
       "   None,\n",
       "   None,\n",
       "   None,\n",
       "   None,\n",
       "   None,\n",
       "   None,\n",
       "   None,\n",
       "   None,\n",
       "   None,\n",
       "   None,\n",
       "   None,\n",
       "   None,\n",
       "   None,\n",
       "   None],\n",
       "  [None,\n",
       "   None,\n",
       "   None,\n",
       "   None,\n",
       "   None,\n",
       "   None,\n",
       "   None,\n",
       "   None,\n",
       "   None,\n",
       "   None,\n",
       "   None,\n",
       "   None,\n",
       "   None,\n",
       "   None,\n",
       "   None,\n",
       "   None,\n",
       "   None,\n",
       "   None,\n",
       "   None,\n",
       "   None],\n",
       "  [None,\n",
       "   None,\n",
       "   None,\n",
       "   None,\n",
       "   None,\n",
       "   None,\n",
       "   None,\n",
       "   None,\n",
       "   None,\n",
       "   None,\n",
       "   None,\n",
       "   None,\n",
       "   None,\n",
       "   None,\n",
       "   None,\n",
       "   None,\n",
       "   None,\n",
       "   None,\n",
       "   None,\n",
       "   None],\n",
       "  [None,\n",
       "   None,\n",
       "   None,\n",
       "   None,\n",
       "   None,\n",
       "   None,\n",
       "   None,\n",
       "   None,\n",
       "   None,\n",
       "   None,\n",
       "   None,\n",
       "   None,\n",
       "   None,\n",
       "   None,\n",
       "   None,\n",
       "   None,\n",
       "   None,\n",
       "   None,\n",
       "   None,\n",
       "   None],\n",
       "  [None,\n",
       "   None,\n",
       "   None,\n",
       "   None,\n",
       "   None,\n",
       "   None,\n",
       "   None,\n",
       "   None,\n",
       "   None,\n",
       "   None,\n",
       "   None,\n",
       "   None,\n",
       "   None,\n",
       "   None,\n",
       "   None,\n",
       "   None,\n",
       "   None,\n",
       "   None,\n",
       "   None,\n",
       "   None],\n",
       "  [None,\n",
       "   None,\n",
       "   None,\n",
       "   None,\n",
       "   None,\n",
       "   None,\n",
       "   None,\n",
       "   None,\n",
       "   None,\n",
       "   None,\n",
       "   None,\n",
       "   None,\n",
       "   None,\n",
       "   None,\n",
       "   None,\n",
       "   None,\n",
       "   None,\n",
       "   None,\n",
       "   None,\n",
       "   None],\n",
       "  [None,\n",
       "   None,\n",
       "   None,\n",
       "   None,\n",
       "   None,\n",
       "   None,\n",
       "   None,\n",
       "   None,\n",
       "   None,\n",
       "   None,\n",
       "   None,\n",
       "   None,\n",
       "   None,\n",
       "   None,\n",
       "   None,\n",
       "   None,\n",
       "   None,\n",
       "   None,\n",
       "   None,\n",
       "   None],\n",
       "  [None,\n",
       "   None,\n",
       "   None,\n",
       "   None,\n",
       "   None,\n",
       "   None,\n",
       "   None,\n",
       "   None,\n",
       "   None,\n",
       "   None,\n",
       "   None,\n",
       "   None,\n",
       "   None,\n",
       "   None,\n",
       "   None,\n",
       "   None,\n",
       "   None,\n",
       "   None,\n",
       "   None,\n",
       "   None],\n",
       "  [None,\n",
       "   None,\n",
       "   None,\n",
       "   None,\n",
       "   None,\n",
       "   None,\n",
       "   None,\n",
       "   None,\n",
       "   None,\n",
       "   None,\n",
       "   None,\n",
       "   None,\n",
       "   None,\n",
       "   None,\n",
       "   None,\n",
       "   None,\n",
       "   None,\n",
       "   None,\n",
       "   None,\n",
       "   None],\n",
       "  [None,\n",
       "   None,\n",
       "   None,\n",
       "   None,\n",
       "   None,\n",
       "   None,\n",
       "   None,\n",
       "   None,\n",
       "   None,\n",
       "   None,\n",
       "   None,\n",
       "   None,\n",
       "   None,\n",
       "   None,\n",
       "   None,\n",
       "   None,\n",
       "   None,\n",
       "   None,\n",
       "   None,\n",
       "   None]],\n",
       " []]"
      ]
     },
     "execution_count": 27,
     "metadata": {},
     "output_type": "execute_result"
    }
   ],
   "source": [
    "[[[None for _ in range(len(dirs[ds_no][fb_meas_no][2])) ] for fb_meas_no in range(0,len(dirs[ds_no]),2)] for ds_no in range(datasets_no)]"
   ]
  },
  {
   "cell_type": "code",
   "execution_count": null,
   "metadata": {},
   "outputs": [],
   "source": [
    "test = [1,2,3]\n",
    "test1 = test.copy()\n",
    "for i,num in enumerate(test1):\n",
    "    test1[i] += 1"
   ]
  },
  {
   "cell_type": "code",
   "execution_count": 15,
   "metadata": {},
   "outputs": [
    {
     "ename": "TypeError",
     "evalue": "object of type 'NoneType' has no len()",
     "output_type": "error",
     "traceback": [
      "\u001b[1;31m---------------------------------------------------------------------------\u001b[0m",
      "\u001b[1;31mTypeError\u001b[0m                                 Traceback (most recent call last)",
      "Cell \u001b[1;32mIn[15], line 1\u001b[0m\n\u001b[1;32m----> 1\u001b[0m measurements \u001b[38;5;241m=\u001b[39m [[[\u001b[38;5;28;01mNone\u001b[39;00m \u001b[38;5;28;01mfor\u001b[39;00m _ \u001b[38;5;129;01min\u001b[39;00m \u001b[38;5;28mrange\u001b[39m(\u001b[38;5;28mlen\u001b[39m(dirs[ds_no][fb_meas_index][\u001b[38;5;241m2\u001b[39m])) ] \u001b[38;5;28;01mfor\u001b[39;00m fb_meas_index \u001b[38;5;129;01min\u001b[39;00m \u001b[38;5;28mrange\u001b[39m(\u001b[38;5;28;43mlen\u001b[39;49m\u001b[43m(\u001b[49m\u001b[43mdirs\u001b[49m\u001b[43m[\u001b[49m\u001b[43mds_no\u001b[49m\u001b[43m]\u001b[49m\u001b[43m)\u001b[49m)] \u001b[38;5;28;01mfor\u001b[39;00m ds_no \u001b[38;5;129;01min\u001b[39;00m \u001b[38;5;28mrange\u001b[39m(datasets_no)]\n\u001b[0;32m      2\u001b[0m laser_powers \u001b[38;5;241m=\u001b[39m [[\u001b[38;5;28;01mNone\u001b[39;00m \u001b[38;5;28;01mfor\u001b[39;00m _ \u001b[38;5;129;01min\u001b[39;00m \u001b[38;5;28mrange\u001b[39m(\u001b[38;5;28mlen\u001b[39m(dirs[ds_no]))] \u001b[38;5;28;01mfor\u001b[39;00m ds_no \u001b[38;5;129;01min\u001b[39;00m \u001b[38;5;28mrange\u001b[39m(datasets_no)]\n\u001b[0;32m      3\u001b[0m feedback_powers \u001b[38;5;241m=\u001b[39m [[\u001b[38;5;28;01mNone\u001b[39;00m \u001b[38;5;28;01mfor\u001b[39;00m _ \u001b[38;5;129;01min\u001b[39;00m \u001b[38;5;28mrange\u001b[39m(\u001b[38;5;28mlen\u001b[39m(dirs[ds_no]))] \u001b[38;5;28;01mfor\u001b[39;00m ds_no \u001b[38;5;129;01min\u001b[39;00m \u001b[38;5;28mrange\u001b[39m(datasets_no)]\n",
      "\u001b[1;31mTypeError\u001b[0m: object of type 'NoneType' has no len()"
     ]
    }
   ],
   "source": [
    "measurements = [[[None for _ in range(len(dirs[ds_no][fb_meas_index][2])) ] for fb_meas_index in range(len(dirs[ds_no]))] for ds_no in range(datasets_no)]\n",
    "laser_powers = [[None for _ in range(len(dirs[ds_no]))] for ds_no in range(datasets_no)]\n",
    "feedback_powers = [[None for _ in range(len(dirs[ds_no]))] for ds_no in range(datasets_no)]\n",
    "delays = [[None for _ in range(len(dirs[ds_no]))] for ds_no in range(datasets_no)]\n",
    "feedback_ratios =[[None for _ in range(len(dirs[ds_no]))] for ds_no in range(datasets_no)]\n",
    "\n",
    "for data_index in range(datasets_no):\n",
    "    #fig, ax = plt.subplots()\n",
    "    #artists = []\n",
    "\n",
    "    #if data_index < 3:\n",
    "\n",
    "    for fb_meas_index in range(len(dirs[data_index])):\n",
    "        for i, directory in enumerate(dirs[data_index][fb_meas_index][2]): #Close spectrum is index 2\n",
    "            \n",
    "            if directory == None:\n",
    "                pass\n",
    "            else:\n",
    "                fs = directory.freqs #Obtaining ESA close spectrum frequencies\n",
    "                ps = directory.powers #Obtaining ESA close spectrum powers\n",
    "\n",
    "                plot = False\n",
    "            \n",
    "                #fs, ps = dp.get_close_spectrum_from_folder(directory,plot=plot,center_about_carrier=True)\n",
    "\n",
    "                measurements[data_index][fb_meas_index][i] = fs, ps\n",
    "\n",
    "                if plot:\n",
    "                        \n",
    "                    plt.figure()\n",
    "                    plt.plot(fs,ps)\n",
    "                    plt.xlim([-0.6,0.6])\n",
    "                    plt.ylim([-120,-40])\n",
    "                    plt.xlabel('Frequency detuning [MHz]')\n",
    "                    plt.ylabel('Spectrum power [dBc]')\n",
    "                    plt.title(f'Plot number {i}')\n",
    "                    \n",
    "        laser_powers[data_index][fb_meas_index] = dirs[data_index][fb_meas_index][6][' Output power']\n",
    "        \n",
    "        feedback_powers[data_index][fb_meas_index] = dirs[data_index][fb_meas_index][6][' Feedback power']\n",
    "\n",
    "\n",
    "\n",
    "        delays[data_index][fb_meas_index] = dirs[data_index][fb_meas_index][6][' Delay']\n",
    "        feedback_ratios[data_index][fb_meas_index] = ld.feedback_ratio(laser_powers[data_index][fb_meas_index],feedback_powers[data_index][fb_meas_index],laser_powers[data_index][fb_meas_index], laser_power_coef=1)"
   ]
  },
  {
   "cell_type": "code",
   "execution_count": null,
   "metadata": {},
   "outputs": [],
   "source": []
  },
  {
   "cell_type": "code",
   "execution_count": 16,
   "metadata": {},
   "outputs": [
    {
     "ename": "TypeError",
     "evalue": "object of type 'NoneType' has no len()",
     "output_type": "error",
     "traceback": [
      "\u001b[1;31m---------------------------------------------------------------------------\u001b[0m",
      "\u001b[1;31mTypeError\u001b[0m                                 Traceback (most recent call last)",
      "Cell \u001b[1;32mIn[16], line 1\u001b[0m\n\u001b[1;32m----> 1\u001b[0m linewidths \u001b[38;5;241m=\u001b[39m [[[\u001b[38;5;28;01mNone\u001b[39;00m \u001b[38;5;28;01mfor\u001b[39;00m _ \u001b[38;5;129;01min\u001b[39;00m \u001b[38;5;28mrange\u001b[39m(\u001b[38;5;28mlen\u001b[39m(dirs[ds_no][fb_meas_index][\u001b[38;5;241m2\u001b[39m])) ] \u001b[38;5;28;01mfor\u001b[39;00m fb_meas_index \u001b[38;5;129;01min\u001b[39;00m \u001b[38;5;28mrange\u001b[39m(\u001b[38;5;28;43mlen\u001b[39;49m\u001b[43m(\u001b[49m\u001b[43mdirs\u001b[49m\u001b[43m[\u001b[49m\u001b[43mds_no\u001b[49m\u001b[43m]\u001b[49m\u001b[43m)\u001b[49m)] \u001b[38;5;28;01mfor\u001b[39;00m ds_no \u001b[38;5;129;01min\u001b[39;00m \u001b[38;5;28mrange\u001b[39m(datasets_no)]\n\u001b[0;32m      3\u001b[0m fit_failures \u001b[38;5;241m=\u001b[39m [[[\u001b[38;5;28;01mFalse\u001b[39;00m \u001b[38;5;28;01mfor\u001b[39;00m _ \u001b[38;5;129;01min\u001b[39;00m \u001b[38;5;28mrange\u001b[39m(\u001b[38;5;28mlen\u001b[39m(dirs[ds_no][fb_meas_index][\u001b[38;5;241m2\u001b[39m])) ] \u001b[38;5;28;01mfor\u001b[39;00m fb_meas_index \u001b[38;5;129;01min\u001b[39;00m \u001b[38;5;28mrange\u001b[39m(\u001b[38;5;28mlen\u001b[39m(dirs[ds_no]))] \u001b[38;5;28;01mfor\u001b[39;00m ds_no \u001b[38;5;129;01min\u001b[39;00m \u001b[38;5;28mrange\u001b[39m(datasets_no)]\n\u001b[0;32m      6\u001b[0m \u001b[38;5;28;01mdef\u001b[39;00m \u001b[38;5;21mget_smsr\u001b[39m(fs, ps, center, fsr, plot \u001b[38;5;241m=\u001b[39m \u001b[38;5;28;01mFalse\u001b[39;00m):\n",
      "\u001b[1;31mTypeError\u001b[0m: object of type 'NoneType' has no len()"
     ]
    }
   ],
   "source": [
    "\n",
    "linewidths = [[[None for _ in range(len(dirs[ds_no][fb_meas_index][2])) ] for fb_meas_index in range(len(dirs[ds_no]))] for ds_no in range(datasets_no)]\n",
    "\n",
    "fit_failures = [[[False for _ in range(len(dirs[ds_no][fb_meas_index][2])) ] for fb_meas_index in range(len(dirs[ds_no]))] for ds_no in range(datasets_no)]\n",
    "\n",
    "\n",
    "def get_smsr(fs, ps, center, fsr, plot = False):\n",
    "    sideband1 = center - fsr\n",
    "    sideband2 = center + fsr\n",
    "\n",
    "    filter1 = abs(fs - sideband1) < 1\n",
    "    ps1 = ps[filter1]\n",
    "    fs1 = fs[filter1]\n",
    "\n",
    "    filter2 = abs(fs - sideband2) < 1\n",
    "    ps2 = ps[filter2]\n",
    "    fs2 = fs[filter2]\n",
    "\n",
    "    filter3 = abs(fs - center) < 1\n",
    "    ps3 = ps[filter3]\n",
    "    fs3 = fs[filter3]\n",
    "\n",
    "    if plot:\n",
    "        plt.plot(fs,ps)\n",
    "    return max(ps3) - max([max(ps1),max(ps2)])\n",
    "\n",
    "\n",
    "smsrs = [[[None for _ in range(len(dirs[ds_no][fb_meas_index][2])) ] for fb_meas_index in range(len(dirs[ds_no]))] for ds_no in range(datasets_no)]\n",
    "\n",
    "# Delay [m] : [start_fit [MHz], end_fit [MHz], linewidth_guess [Hz],  ]\n",
    "fit_settings = {3000 : [0.2, 0.5, 3e3],\n",
    "                700 : [0.2, 1, 9e3],\n",
    "                100 : [0.2, 3, 50e3],\n",
    "                40 : [0.2, 9.5, 400e3],\n",
    "                30 : [0.2, 9.5, 500e3], }\n",
    "\n",
    "\n",
    "for data_index in range(datasets_no):\n",
    "    #fig, ax = plt.subplots()\n",
    "    #artists = []\n",
    "\n",
    "    #if data_index < 3:\n",
    "\n",
    "    for fb_meas_index in range(len(dirs[data_index])):\n",
    "\n",
    "        delay_length = delays[data_index][fb_meas_index]\n",
    "\n",
    "        settings = fit_settings[delay_length]\n",
    "\n",
    "        filter = (abs(fs) > settings[0]) & (abs(fs) < settings[1])\n",
    "\n",
    "        lw_guess = settings[2]\n",
    "\n",
    "\n",
    "        for i, directory in enumerate(dirs[data_index][fb_meas_index][2]): #Close spectrum is index 2\n",
    "            \n",
    "            #fs, ps = dp.get_close_spectrum_from_folder(dirs[i],plot=False,center_about_carrier=True)\n",
    "\n",
    "            fs = measurements[data_index][fb_meas_index][i][0]\n",
    "            ps = measurements[data_index][fb_meas_index][i][1] - max(measurements[data_index][fb_meas_index][i][1])\n",
    "\n",
    "\n",
    "            filter = (abs(fs) > settings[0]) & (abs(fs) < settings[1])\n",
    "\n",
    "\n",
    "            try:\n",
    "                params, whatevs = curve_fit(ff.zeta_fit,fs[filter]*10**6,ps[filter],p0=[lw_guess,25,delay_length],bounds=((lw_guess/5e2,-100,delay_length*0.9),(lw_guess*5e1,100,delay_length*1.1)))\n",
    "            except RuntimeError:\n",
    "                params = [1e9,25,delay_length]\n",
    "                # print(f'Fit failed, delay={delay_length} Data_index={data_index}, fb_meas_index={fb_meas_index},no{i}')\n",
    "                # plt.figure()\n",
    "                # plt.plot(fs,ps, label = 'data')\n",
    "                # plt.title(f'Data_index={data_index}, fb_meas_index={fb_meas_index},no{i}, 1 GHz linewidth')\n",
    "\n",
    "                fit_failures[data_index][fb_meas_index][i] = True\n",
    "\n",
    "\n",
    "\n",
    "\n",
    "            laser_power = laser_powers[data_index][fb_meas_index]\n",
    "            feedback_power = feedback_powers[data_index][fb_meas_index]\n",
    "\n",
    "            feedback_ratio = feedback_ratios[data_index][fb_meas_index]\n",
    "\n",
    "\n",
    "\n",
    "\n",
    "\n",
    "            linewidths[data_index][fb_meas_index][i] = params[0]\n",
    "            #linewidth_lor.append(params[0])\n",
    "\n",
    "            # except RuntimeError:\n",
    "                # linewidths[data_index][i] = None         \n",
    "\n",
    "\n",
    "            laser_power = laser_powers[data_index][fb_meas_index]\n",
    "            feedback_power = feedback_powers[data_index][fb_meas_index]\n",
    "\n",
    "            feedback_ratio = feedback_ratios[data_index][fb_meas_index]\n",
    "\n",
    "\n",
    "            fs_full = dirs[data_index][fb_meas_index][1][i].freqs \n",
    "            ps_full = dirs[data_index][fb_meas_index][1][i].powers\n",
    "            plt.figure()\n",
    "            plt.plot(fs_full,ps_full)\n",
    "\n",
    "            smsrs[data_index][fb_meas_index][i] = get_smsr(fs_full,ps_full,76,11.7)\n",
    "\n",
    "\n",
    "\n",
    "            filter_zeta_plot = abs(fs) < 0.6\n",
    "\n",
    "            plt.figure()\n",
    "            plt.plot(fs,ps, label = 'Data, background subtracted')\n",
    "            plt.plot(fs[filter_zeta_plot],ff.zeta_fit(fs[filter_zeta_plot]*10**6,params[0],params[1],params[2]), label = 'zeta function')\n",
    "            plt.title(f'{data_dirs[data_index][117:-23]}, {data_dirs[data_index][-10:]}  no. {i}, Linewidth: {params[0]*1e-3:.1f} kHz, feedback ratio: {feedback_ratio:.2f} dB, Laser power: {laser_power:.0f} µW')\n",
    "            plt.legend()\n",
    "\n",
    "            plt.xlim([-5,5])\n",
    "            plt.ylim([-100,0])\n"
   ]
  },
  {
   "cell_type": "code",
   "execution_count": null,
   "metadata": {},
   "outputs": [
    {
     "data": {
      "text/plain": [
       "[884.4677365938511,\n",
       " 868.8340061456258,\n",
       " 700.0506270970299,\n",
       " 651.5066885121521,\n",
       " 609.9884601329796,\n",
       " 590.3128146118844,\n",
       " 671.703029658972,\n",
       " 576.0583750153295,\n",
       " 675.8918294989775,\n",
       " 953.0335227058774,\n",
       " 488.1814345956308,\n",
       " 1191.0789820706048,\n",
       " 542.2765495835581,\n",
       " 376.0889383614468,\n",
       " 371.5566449447028,\n",
       " 393.696268329485,\n",
       " 713.3067152091062,\n",
       " 477.2753813546968,\n",
       " 529.4811983749222,\n",
       " 656.4997547615184]"
      ]
     },
     "execution_count": 17,
     "metadata": {},
     "output_type": "execute_result"
    }
   ],
   "source": [
    "linewidths[0][3]"
   ]
  },
  {
   "cell_type": "code",
   "execution_count": null,
   "metadata": {},
   "outputs": [
    {
     "ename": "NameError",
     "evalue": "name 'datasets_no' is not defined",
     "output_type": "error",
     "traceback": [
      "\u001b[1;31m---------------------------------------------------------------------------\u001b[0m",
      "\u001b[1;31mNameError\u001b[0m                                 Traceback (most recent call last)",
      "Cell \u001b[1;32mIn[2], line 33\u001b[0m\n\u001b[0;32m     29\u001b[0m counter_failures \u001b[38;5;241m=\u001b[39m \u001b[38;5;241m0\u001b[39m\n\u001b[0;32m     31\u001b[0m break_off \u001b[38;5;241m=\u001b[39m \u001b[38;5;241m500\u001b[39m\n\u001b[1;32m---> 33\u001b[0m remove_linewidths \u001b[38;5;241m=\u001b[39m [[[\u001b[38;5;28;01mFalse\u001b[39;00m \u001b[38;5;28;01mfor\u001b[39;00m _ \u001b[38;5;129;01min\u001b[39;00m \u001b[38;5;28mrange\u001b[39m(\u001b[38;5;28mlen\u001b[39m(dirs[ds_no][fb_meas_index][\u001b[38;5;241m2\u001b[39m])) ] \u001b[38;5;28;01mfor\u001b[39;00m fb_meas_index \u001b[38;5;129;01min\u001b[39;00m \u001b[38;5;28mrange\u001b[39m(\u001b[38;5;28mlen\u001b[39m(dirs[ds_no]))] \u001b[38;5;28;01mfor\u001b[39;00m ds_no \u001b[38;5;129;01min\u001b[39;00m \u001b[38;5;28mrange\u001b[39m(\u001b[43mdatasets_no\u001b[49m)]\n\u001b[0;32m     36\u001b[0m \u001b[38;5;28;01mfor\u001b[39;00m data_index \u001b[38;5;129;01min\u001b[39;00m \u001b[38;5;28mrange\u001b[39m(datasets_no):\n\u001b[0;32m     37\u001b[0m     \u001b[38;5;66;03m#fig, ax = plt.subplots()\u001b[39;00m\n\u001b[0;32m     38\u001b[0m     \u001b[38;5;66;03m#artists = []\u001b[39;00m\n\u001b[0;32m     39\u001b[0m \n\u001b[0;32m     40\u001b[0m     \u001b[38;5;66;03m#if data_index < 3:\u001b[39;00m\n\u001b[0;32m     42\u001b[0m     \u001b[38;5;28;01mfor\u001b[39;00m fb_meas_index \u001b[38;5;129;01min\u001b[39;00m \u001b[38;5;28mrange\u001b[39m(\u001b[38;5;28mlen\u001b[39m(dirs[data_index])):\n",
      "\u001b[1;31mNameError\u001b[0m: name 'datasets_no' is not defined"
     ]
    }
   ],
   "source": [
    "def get_smsr(fs, ps, center, fsr, plot = False):\n",
    "    sideband1 = center - fsr\n",
    "    sideband2 = center + fsr\n",
    "\n",
    "    filter1 = abs(fs - sideband1) < 2\n",
    "    ps1 = ps[filter1]\n",
    "    fs1 = fs[filter1]\n",
    "\n",
    "    filter2 = abs(fs - sideband2) < 2\n",
    "    ps2 = ps[filter2]\n",
    "    fs2 = fs[filter2]\n",
    "\n",
    "    filter3 = abs(fs - center) < 2\n",
    "    ps3 = ps[filter3]\n",
    "    fs3 = fs[filter3]\n",
    "\n",
    "    if plot:\n",
    "        plt.plot(fs,ps)\n",
    "    return max(ps3) - max([max(ps1),max(ps2)])\n",
    "\n",
    "\n",
    "\n",
    "fit_settings = {3000 : [0.2, 0.6, 3e3],\n",
    "        700 : [0.2, 1, 9e3],\n",
    "        100 : [0.2, 3, 50e3],\n",
    "        40 : [2, 7.5, 400e3],\n",
    "        30 : [4, 5.5, 500e3], }\n",
    "\n",
    "counter_failures = 0\n",
    "\n",
    "break_off = 500\n",
    "\n",
    "remove_linewidths = [[[False for _ in range(len(dirs[ds_no][fb_meas_index][2])) ] for fb_meas_index in range(len(dirs[ds_no]))] for ds_no in range(datasets_no)]\n",
    "\n",
    "\n",
    "for data_index in range(datasets_no):\n",
    "    #fig, ax = plt.subplots()\n",
    "    #artists = []\n",
    "\n",
    "    #if data_index < 3:\n",
    "\n",
    "    for fb_meas_index in range(len(dirs[data_index])):\n",
    "\n",
    "\n",
    "        for i, directory in enumerate(dirs[data_index][fb_meas_index][2]): #Close spectrum is index 2\n",
    "            delay_length = delays[data_index][fb_meas_index]\n",
    "\n",
    "            \n",
    "            if fit_failures[data_index][fb_meas_index][i]:\n",
    "\n",
    "                if delay_length > 34:\n",
    "                \n",
    "                    fs = measurements[data_index][fb_meas_index][i][0]\n",
    "                    ps = measurements[data_index][fb_meas_index][i][1] - max(measurements[data_index][fb_meas_index][i][1])\n",
    "\n",
    "                    filter = (abs(fs) > settings[0]) & (abs(fs) < settings[1])\n",
    "\n",
    "                    delay_length = delays[data_index][fb_meas_index]\n",
    "\n",
    "                    settings = fit_settings[delay_length]\n",
    "\n",
    "                    lw_guess = settings[2]\n",
    "\n",
    "                    #try:\n",
    "                    params, whatevs = curve_fit(ff.zeta_fit,fs[filter]*10**6,ps[filter],p0=[lw_guess,25,delay_length*1.15],bounds=((lw_guess/5e1,-100,delay_length*0.95),(lw_guess*5e1,100,delay_length*1.2)))\n",
    "                    # except RuntimeError:\n",
    "                    #     params = [1e9,25,delay_length]\n",
    "                        # print(f'Fit failed, delay={delay_length} Data_index={data_index}, fb_meas_index={fb_meas_index},no{i}')\n",
    "                        # plt.figure()\n",
    "                        # plt.plot(fs,ps, label = 'data')\n",
    "                        # plt.title(f'Data_index={data_index}, fb_meas_index={fb_meas_index},no{i}, 1 GHz linewidth')\n",
    "\n",
    "\n",
    "\n",
    "                    filter_zeta_plot = abs(fs) < settings[1]\n",
    "\n",
    "                    smsr = smsrs[data_index][fb_meas_index][i]\n",
    "\n",
    "                    plt.figure()\n",
    "                    plt.plot(fs,ps, label = 'data')\n",
    "                    plt.title(f'Data_index={data_index}, fb_meas_index={fb_meas_index},no{i}, {params[0]*1e-6:.3f}MHz, delay: {params[2]:.0f}, SMSR:{smsr:.1f}')\n",
    "                    plt.plot(fs[filter_zeta_plot],ff.zeta_fit(fs[filter_zeta_plot]*10**6,params[0],params[1],params[2]), label = 'zeta fit')\n",
    "                    plt.plot(fs[filter_zeta_plot],ff.zeta_fit(fs[filter_zeta_plot]*10**6,params[0],params[1]-4,params[2]), label = 'zeta fit offset')\n",
    "                    plt.axvline(x = -11.7, color = 'b', linestyle='--',  label = 'axvline - full height')\n",
    "                    plt.axvline(x = -10.7, color = 'b', linestyle='--',  label = 'axvline - full height')\n",
    "                    plt.legend()\n",
    "\n",
    "                    print(get_smsr(fs,ps,0,11.7))\n",
    "                    print(ff.R_squared(ps[filter],ff.zeta_fit(fs[filter]*10**6,params[0],params[1],params[2])))\n",
    "\n",
    "                    if smsr <35:\n",
    "\n",
    "                        remove_linewidths[data_index][fb_meas_index][i] = True\n",
    "                     \n",
    "                    \n",
    "\n",
    "\n",
    "                counter_failures +=1\n",
    "\n",
    "                if counter_failures >= break_off:\n",
    "                    break\n",
    "            if counter_failures >= break_off:\n",
    "                    break\n",
    "        if counter_failures >= break_off:\n",
    "                    break\n",
    "\n",
    "                "
   ]
  },
  {
   "cell_type": "code",
   "execution_count": null,
   "metadata": {},
   "outputs": [],
   "source": [
    "def lw_narrowing(fb_power_in_dB,v_0,beta):\n",
    "    c = 299792458 #m/s\n",
    "    tau =1#?\n",
    "    #beta=800\n",
    "    alpha = 3 #Linewidth enhancement factor\n",
    "    omega = 2*np.pi*193.41448903*1e12 #Hz\n",
    "    L_ext = 12 #meters\n",
    "    tau_ext = L_ext/c\n",
    "\n",
    "    f_ext = 10**(fb_power_in_dB/10) #P_ext/P_0 ratio, going from dB to ratio\n",
    "\n",
    "    return v_0/(1+tau*beta*np.sqrt(f_ext)*np.cos(0*omega*tau_ext+np.arctan(alpha)))**2\n",
    "\n",
    "def lw_broadening(fb_power_in_dB,v_0,beta):\n",
    "    c = 299792458 #m/s\n",
    "    tau =1#?\n",
    "    #beta=800\n",
    "    alpha = 0 #Linewidth enhancement factor\n",
    "    omega = 2*np.pi*193.41448903*1e12 #Hz\n",
    "    L_ext = 12 #meters\n",
    "    tau_ext = L_ext/c\n",
    "\n",
    "    f_ext = 10**(fb_power_in_dB/10) #P_ext/P_0 ratio, going from dB to ratio\n",
    "\n",
    "    return v_0/(1+tau*beta*np.sqrt(f_ext)*np.cos(0*omega*tau_ext+np.arctan(alpha)))**2\n",
    "\n",
    "\n",
    "fb_power_input = np.linspace(-75,-10,1000)"
   ]
  },
  {
   "cell_type": "code",
   "execution_count": null,
   "metadata": {},
   "outputs": [],
   "source": [
    "def outlier_sorting(dataset):\n",
    "\n",
    "    new_dataset = [None for _ in range(len(dataset))]\n",
    "    filter_outlier = [False for _ in range(len(dataset))]\n",
    "\n",
    "\n",
    "    None_filter = np.array(dataset) != None\n",
    "\n",
    "    filter_dataset = np.array(dataset)[None_filter]\n",
    "\n",
    "    method = 'midpoint'\n",
    "\n",
    "    iqr_number = iqr(filter_dataset, interpolation=method)\n",
    "\n",
    "    Q1 = np.percentile(filter_dataset,25,method=method)\n",
    "    \n",
    "    Q3 = np.percentile(filter_dataset,75,method=method)\n",
    "\n",
    "\n",
    "    for i,datapoint in enumerate(dataset):\n",
    "        if datapoint != None:\n",
    "            if (datapoint < Q3+1.5*iqr_number and datapoint > Q1-1.5*iqr_number):\n",
    "\n",
    "                new_dataset[i] = datapoint\n",
    "                filter_outlier[i] = True\n",
    "\n",
    "    return new_dataset, filter_outlier"
   ]
  },
  {
   "cell_type": "code",
   "execution_count": null,
   "metadata": {},
   "outputs": [],
   "source": [
    "#Something here to remove 1GHz linewidths when manually inserted --  though should check the actual fits first, to see if they are any good.."
   ]
  },
  {
   "cell_type": "code",
   "execution_count": null,
   "metadata": {},
   "outputs": [],
   "source": [
    "# indices = [[] for _ in range(datasets_no)]\n",
    "\n",
    "smsr_cutoff = 35\n",
    "\n",
    "for data_index in range(datasets_no):\n",
    "    for fb_meas_index in range(len(dirs[data_index])):\n",
    "       \n",
    "        \n",
    "        if sum(np.array(linewidths[data_index][fb_meas_index])!=None) > 3: #Outlier sorting doesn't work for n<=3, so only take datasets with 4 datapoints or more.\n",
    "            _,smsr_filter = outlier_sorting(linewidths[data_index][fb_meas_index])\n",
    "            plt.figure(1)\n",
    "            plt.errorbar((feedback_ratios[data_index][fb_meas_index]),np.average(np.array(linewidths[data_index][fb_meas_index])[smsr_filter]),yerr=np.std(np.array(linewidths[data_index][fb_meas_index])[smsr_filter]))#,xerr=np.std(np.array(feedback_ratios[data_index])[smsr_filter]))\n",
    "            #print(f'FB level is {np.average(np.array(feedback_ratios[data_index])[smsr_filter])} +/- {np.std(np.array(feedback_ratios[data_index])[smsr_filter])}, linewidth is {np.average(np.array(double_filtered_linewidths[data_index])[smsr_filter])} +/- {np.std(np.array(double_filtered_linewidths[data_index])[smsr_filter])}')\n",
    "    plt.yscale('log')\n",
    "    plt.xlabel('Feedback ratio [dB]')\n",
    "    plt.ylabel('Linewidth [Hz]')\n",
    "    plt.title(f'Before and after zoom; SMSR > {smsr_cutoff}dB')\n",
    "    plt.ylim([1e2,35e3])\n",
    "    plt.xlim([-100,-15])\n",
    "    plt.plot(fb_power_input,lw_narrowing(fb_power_input,1e6,11.5e2),'--',label='Theory')\n",
    "    plt.plot(fb_power_input,np.ones(len(fb_power_input))*3.2e2,'--',label='linewidth floor')\n",
    "    plt.legend()\n",
    "    #plt.savefig(fr'C:\\Users\\au617810\\OneDrive - Aarhus universitet\\Videnskabelig assistent\\Measurement spectra and plots\\Linewidts_FB_IQR\\1518nm_double_SMSR_errorbars.pdf')\n",
    "\n",
    "\n",
    "    plt.figure(1)\n",
    "    plt.title(f'Before and after zoom; SMSR > {smsr_cutoff}dB')\n",
    "    plt.yscale('log')\n",
    "    plt.xlabel('Feedback ratio [dB]')\n",
    "    plt.ylabel('Linewidth [Hz]')\n",
    "    plt.ylim([1e2,35e3])\n",
    "    #plt.savefig(fr'C:\\Users\\au617810\\OneDrive - Aarhus universitet\\Videnskabelig assistent\\Measurement spectra and plots\\Linewidts_FB_IQR\\1518nm_double_SMSR_datapoints.pdf')\n"
   ]
  },
  {
   "cell_type": "code",
   "execution_count": null,
   "metadata": {},
   "outputs": [],
   "source": [
    "GHz_dir = r\"O:\\Tech_Photonics\\Projects\\Narrow Linewidth\\MFB Chips\\Chip 3 Feedback measurements\\11-07 5GHz range\"\n",
    "\n",
    "def path(file):\n",
    "\n",
    "    return GHz_dir + '\\\\' + file\n",
    "    \n",
    "\n",
    "files_temp = os.listdir(GHz_dir)\n",
    "\n",
    "files = [path(file) for file in files_temp if file.endswith('.txt')]\n"
   ]
  },
  {
   "cell_type": "code",
   "execution_count": null,
   "metadata": {},
   "outputs": [],
   "source": [
    "def load_csv_with_header(filename, header_lines_count=2):\n",
    "    header_lines = []\n",
    "    with open(filename, 'r') as file:\n",
    "        for _ in range(header_lines_count):\n",
    "            header_lines.append(file.readline().strip().replace('# ','').replace('#','').replace(', ',',').replace(':','=').replace(' =','=').replace('= ','=').replace('#  ',''))\n",
    "\n",
    "        print(header_lines)\n",
    "    \n",
    "        data = np.loadtxt(file)\n",
    "\n",
    "        header_dict = extract_params(header_lines)\n",
    "        #print(header_dict)\n",
    "\n",
    "\n",
    "    return header_dict, data\n",
    "\n",
    "\n",
    "def extract_params(header:list):\n",
    "    params_dict = {}\n",
    "\n",
    "    if sum(['=' in file for file in header])<1:\n",
    "        pass\n",
    "        print('fail')\n",
    "    else:\n",
    "        #Creating the dictionary\n",
    "        for parameter_string in header:\n",
    "\n",
    "            \n",
    "            param_list = parameter_string.split('=')\n",
    "\n",
    "            key = param_list[0]\n",
    "            value = param_list[1]\n",
    "            #Finding the first digit of the float in the value part of the string\n",
    "            for j, val in enumerate(value):\n",
    "                if val.isdigit() or val=='-':\n",
    "                    first_placement = j\n",
    "                    break\n",
    "            #Finding the last digit of the float in the value part of the string\n",
    "            for j in range(len(value)-1,-1,-1):\n",
    "\n",
    "                if value[j].isdigit():\n",
    "                    last_placement = j+1\n",
    "                    break\n",
    "            #Obtaining the full number and turning it into a float\n",
    "            try:\n",
    "                float_value = float(value[first_placement:last_placement])\n",
    "\n",
    "            except ValueError:\n",
    "                float_value = value\n",
    "                #print('The value for' + key + 'is not a float')\n",
    "            #Saving the key and value in the dictionary\n",
    "            params_dict[key] = float_value\n",
    "\n",
    "    return params_dict"
   ]
  },
  {
   "cell_type": "code",
   "execution_count": null,
   "metadata": {},
   "outputs": [
    {
     "name": "stdout",
     "output_type": "stream",
     "text": [
      "['output=3976uW ,', 'fb=112.4uW']\n",
      "['output=3928uW ,', 'fb=884uW']\n",
      "['output=3892uW ,', 'fb=443.8uW']\n",
      "['output=3896uW ,', 'fb=208.9uW,good polarization']\n",
      "['output=3888uW ,', 'fb=208.9uW,bad/unstable polarization?']\n"
     ]
    }
   ],
   "source": [
    "data =[None for _ in range(5)]\n",
    "header = [None for _ in range(5)]\n",
    "\n",
    "for i,file in enumerate(files):\n",
    "    header[i],data[i] = load_csv_with_header(file)\n",
    "     "
   ]
  },
  {
   "cell_type": "code",
   "execution_count": null,
   "metadata": {},
   "outputs": [
    {
     "data": {
      "text/plain": [
       "{'output': 3976.0, 'fb': 112.4}"
      ]
     },
     "execution_count": 116,
     "metadata": {},
     "output_type": "execute_result"
    }
   ],
   "source": [
    "header[0]"
   ]
  },
  {
   "cell_type": "code",
   "execution_count": null,
   "metadata": {},
   "outputs": [
    {
     "data": {
      "image/png": "[encoded data removed]",
      "text/plain": [
       "<Figure size 640x480 with 1 Axes>"
      ]
     },
     "metadata": {},
     "output_type": "display_data"
    }
   ],
   "source": [
    "plt.figure()\n",
    "for i in range(3):\n",
    "    plt.plot(data[i][0]*1e-9,data[i][1]-max(data[i][1]),label=f'{linear_to_dB(header[i]['fb']/header[i]['output']):.1f} dB',alpha = 1-i/10)\n",
    "plt.xlabel('detuned frequency [GHz]')\n",
    "plt.ylabel('Constrast [dB]')\n",
    "plt.legend()\n",
    "plt.savefig(r'./GHz_range_spectrum.pdf')\n",
    "plt.savefig(r'./GHz_range_spectrum.png')"
   ]
  },
  {
   "cell_type": "code",
   "execution_count": null,
   "metadata": {},
   "outputs": [
    {
     "data": {
      "image/png": "[encoded data removed]",
      "text/plain": [
       "<Figure size 640x480 with 1 Axes>"
      ]
     },
     "metadata": {},
     "output_type": "display_data"
    }
   ],
   "source": [
    "pol = ['stable pol','unstable pol']\n",
    "plt.figure()\n",
    "for i in range(3,5):\n",
    "    plt.plot(data[i][0]*1e-9,data[i][1]-max(data[i][1]),label=f'{linear_to_dB(header[i]['fb']/header[i]['output']):.1f} dB, {pol[i-3]}',alpha = 1-(i-3)/5)\n",
    "plt.xlabel('detuned frequency [GHz]')\n",
    "plt.ylabel('Constrast [dB]')\n",
    "plt.legend()\n",
    "plt.savefig(r'./GHz_spectrum_stable_unstable.pdf')\n",
    "plt.savefig(r'./GHz_spectrum_stable_unstable.png')"
   ]
  }
 ],
 "metadata": {
  "kernelspec": {
   "display_name": "conda_env",
   "language": "python",
   "name": "python3"
  },
  "language_info": {
   "codemirror_mode": {
    "name": "ipython",
    "version": 3
   },
   "file_extension": ".py",
   "mimetype": "text/x-python",
   "name": "python",
   "nbconvert_exporter": "python",
   "pygments_lexer": "ipython3",
   "version": "3.12.0"
  }
 },
 "nbformat": 4,
 "nbformat_minor": 2
}
