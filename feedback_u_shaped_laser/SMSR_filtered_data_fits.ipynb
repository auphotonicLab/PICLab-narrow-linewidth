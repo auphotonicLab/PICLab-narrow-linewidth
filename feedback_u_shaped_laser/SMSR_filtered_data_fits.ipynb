{
 "cells": [
  {
   "cell_type": "code",
   "execution_count": 1,
   "metadata": {},
   "outputs": [],
   "source": [
    "import os\n",
    "import pandas as pd\n",
    "import numpy as np\n",
    "import matplotlib.pyplot as plt\n",
    "from scipy.optimize import curve_fit\n",
    "from scipy.stats import iqr\n",
    "import sys\n",
    "import importlib\n",
    "from itertools import chain\n",
    "from datetime import date\n",
    "\n",
    "from uslib import fit_functions as ff\n",
    "from uslib import load_data as ld\n",
    "\n",
    "import matplotlib.animation as animation\n",
    "\n"
   ]
  },
  {
   "cell_type": "code",
   "execution_count": 2,
   "metadata": {},
   "outputs": [],
   "source": [
    "data_dir=r\"O:\\Tech_Photonics\\Projects\\Narrow Linewidth\\MFB Chips\\Chip 3 Feedback measurements\\16-07\""
   ]
  },
  {
   "cell_type": "code",
   "execution_count": 3,
   "metadata": {},
   "outputs": [
    {
     "data": {
      "text/plain": [
       "array([61000000.        , 61000299.99700003, 61000599.99400005, ...,\n",
       "       90999100.00874737, 90999400.00574741, 90999700.00274743])"
      ]
     },
     "execution_count": 3,
     "metadata": {},
     "output_type": "execute_result"
    }
   ],
   "source": [
    "np.loadtxt(r\"O:\\Tech_Photonics\\Projects\\Narrow Linewidth\\MFB Chips\\Chip 3 Feedback measurements\\16-07\\2024-07-17_12-21-10_fb_0.1021µW\\no 0full.txt\",delimiter = ',')[0,:]"
   ]
  },
  {
   "cell_type": "code",
   "execution_count": 4,
   "metadata": {},
   "outputs": [
    {
     "name": "stdout",
     "output_type": "stream",
     "text": [
      "O:\\Tech_Photonics\\Projects\\Narrow Linewidth\\MFB Chips\\Chip 3 Feedback measurements\\16-07\\2024-07-16_15-39-02_fb_684µW\\no 0full.txt\n",
      "O:\\Tech_Photonics\\Projects\\Narrow Linewidth\\MFB Chips\\Chip 3 Feedback measurements\\16-07\\2024-07-16_15-39-02_fb_684µW\\no 1full.txt\n",
      "O:\\Tech_Photonics\\Projects\\Narrow Linewidth\\MFB Chips\\Chip 3 Feedback measurements\\16-07\\2024-07-16_15-39-02_fb_684µW\\no 2full.txt\n",
      "O:\\Tech_Photonics\\Projects\\Narrow Linewidth\\MFB Chips\\Chip 3 Feedback measurements\\16-07\\2024-07-16_15-39-02_fb_684µW\\no 3full.txt\n",
      "O:\\Tech_Photonics\\Projects\\Narrow Linewidth\\MFB Chips\\Chip 3 Feedback measurements\\16-07\\2024-07-16_15-39-02_fb_684µW\\no 4full.txt\n",
      "O:\\Tech_Photonics\\Projects\\Narrow Linewidth\\MFB Chips\\Chip 3 Feedback measurements\\16-07\\2024-07-16_15-39-02_fb_684µW\\no 5full.txt\n",
      "O:\\Tech_Photonics\\Projects\\Narrow Linewidth\\MFB Chips\\Chip 3 Feedback measurements\\16-07\\2024-07-16_15-39-02_fb_684µW\\no 6full.txt\n",
      "O:\\Tech_Photonics\\Projects\\Narrow Linewidth\\MFB Chips\\Chip 3 Feedback measurements\\16-07\\2024-07-16_15-39-02_fb_684µW\\no 7full.txt\n",
      "O:\\Tech_Photonics\\Projects\\Narrow Linewidth\\MFB Chips\\Chip 3 Feedback measurements\\16-07\\2024-07-16_15-39-02_fb_684µW\\no 8full.txt\n",
      "O:\\Tech_Photonics\\Projects\\Narrow Linewidth\\MFB Chips\\Chip 3 Feedback measurements\\16-07\\2024-07-16_15-39-02_fb_684µW\\no 9full.txt\n",
      "O:\\Tech_Photonics\\Projects\\Narrow Linewidth\\MFB Chips\\Chip 3 Feedback measurements\\16-07\\2024-07-16_15-39-02_fb_684µW\\no 10full.txt\n",
      "O:\\Tech_Photonics\\Projects\\Narrow Linewidth\\MFB Chips\\Chip 3 Feedback measurements\\16-07\\2024-07-16_15-39-02_fb_684µW\\no 11full.txt\n",
      "O:\\Tech_Photonics\\Projects\\Narrow Linewidth\\MFB Chips\\Chip 3 Feedback measurements\\16-07\\2024-07-16_15-39-02_fb_684µW\\no 12full.txt\n",
      "O:\\Tech_Photonics\\Projects\\Narrow Linewidth\\MFB Chips\\Chip 3 Feedback measurements\\16-07\\2024-07-16_15-39-02_fb_684µW\\no 13full.txt\n",
      "O:\\Tech_Photonics\\Projects\\Narrow Linewidth\\MFB Chips\\Chip 3 Feedback measurements\\16-07\\2024-07-16_15-39-02_fb_684µW\\no 14full.txt\n",
      "O:\\Tech_Photonics\\Projects\\Narrow Linewidth\\MFB Chips\\Chip 3 Feedback measurements\\16-07\\2024-07-16_15-39-02_fb_684µW\\no 15full.txt\n",
      "O:\\Tech_Photonics\\Projects\\Narrow Linewidth\\MFB Chips\\Chip 3 Feedback measurements\\16-07\\2024-07-16_15-39-02_fb_684µW\\no 16full.txt\n",
      "O:\\Tech_Photonics\\Projects\\Narrow Linewidth\\MFB Chips\\Chip 3 Feedback measurements\\16-07\\2024-07-16_15-39-02_fb_684µW\\no 17full.txt\n",
      "O:\\Tech_Photonics\\Projects\\Narrow Linewidth\\MFB Chips\\Chip 3 Feedback measurements\\16-07\\2024-07-16_15-39-02_fb_684µW\\no 18full.txt\n",
      "O:\\Tech_Photonics\\Projects\\Narrow Linewidth\\MFB Chips\\Chip 3 Feedback measurements\\16-07\\2024-07-16_15-39-02_fb_684µW\\no 19full.txt\n",
      "O:\\Tech_Photonics\\Projects\\Narrow Linewidth\\MFB Chips\\Chip 3 Feedback measurements\\16-07\\2024-07-16_15-39-02_fb_684µW\\no 1full.txt\n",
      "O:\\Tech_Photonics\\Projects\\Narrow Linewidth\\MFB Chips\\Chip 3 Feedback measurements\\16-07\\2024-07-16_15-39-02_fb_684µW\\no 2full.txt\n",
      "O:\\Tech_Photonics\\Projects\\Narrow Linewidth\\MFB Chips\\Chip 3 Feedback measurements\\16-07\\2024-07-16_15-39-02_fb_684µW\\no 3full.txt\n",
      "O:\\Tech_Photonics\\Projects\\Narrow Linewidth\\MFB Chips\\Chip 3 Feedback measurements\\16-07\\2024-07-16_15-39-02_fb_684µW\\no 4full.txt\n",
      "O:\\Tech_Photonics\\Projects\\Narrow Linewidth\\MFB Chips\\Chip 3 Feedback measurements\\16-07\\2024-07-16_15-39-02_fb_684µW\\no 5full.txt\n",
      "O:\\Tech_Photonics\\Projects\\Narrow Linewidth\\MFB Chips\\Chip 3 Feedback measurements\\16-07\\2024-07-16_15-39-02_fb_684µW\\no 6full.txt\n",
      "O:\\Tech_Photonics\\Projects\\Narrow Linewidth\\MFB Chips\\Chip 3 Feedback measurements\\16-07\\2024-07-16_15-39-02_fb_684µW\\no 7full.txt\n",
      "O:\\Tech_Photonics\\Projects\\Narrow Linewidth\\MFB Chips\\Chip 3 Feedback measurements\\16-07\\2024-07-16_15-39-02_fb_684µW\\no 8full.txt\n",
      "O:\\Tech_Photonics\\Projects\\Narrow Linewidth\\MFB Chips\\Chip 3 Feedback measurements\\16-07\\2024-07-16_15-39-02_fb_684µW\\no 9full.txt\n",
      "O:\\Tech_Photonics\\Projects\\Narrow Linewidth\\MFB Chips\\Chip 3 Feedback measurements\\16-07\\2024-07-16_15-39-02_fb_684µW\\no 10full.txt\n",
      "O:\\Tech_Photonics\\Projects\\Narrow Linewidth\\MFB Chips\\Chip 3 Feedback measurements\\16-07\\2024-07-16_15-39-02_fb_684µW\\no 11full.txt\n",
      "O:\\Tech_Photonics\\Projects\\Narrow Linewidth\\MFB Chips\\Chip 3 Feedback measurements\\16-07\\2024-07-16_15-39-02_fb_684µW\\no 12full.txt\n",
      "O:\\Tech_Photonics\\Projects\\Narrow Linewidth\\MFB Chips\\Chip 3 Feedback measurements\\16-07\\2024-07-16_15-39-02_fb_684µW\\no 13full.txt\n",
      "O:\\Tech_Photonics\\Projects\\Narrow Linewidth\\MFB Chips\\Chip 3 Feedback measurements\\16-07\\2024-07-16_15-39-02_fb_684µW\\no 14full.txt\n",
      "O:\\Tech_Photonics\\Projects\\Narrow Linewidth\\MFB Chips\\Chip 3 Feedback measurements\\16-07\\2024-07-16_15-39-02_fb_684µW\\no 15full.txt\n",
      "O:\\Tech_Photonics\\Projects\\Narrow Linewidth\\MFB Chips\\Chip 3 Feedback measurements\\16-07\\2024-07-16_15-39-02_fb_684µW\\no 16full.txt\n",
      "O:\\Tech_Photonics\\Projects\\Narrow Linewidth\\MFB Chips\\Chip 3 Feedback measurements\\16-07\\2024-07-16_15-39-02_fb_684µW\\no 17full.txt\n",
      "O:\\Tech_Photonics\\Projects\\Narrow Linewidth\\MFB Chips\\Chip 3 Feedback measurements\\16-07\\2024-07-16_15-39-02_fb_684µW\\no 18full.txt\n",
      "O:\\Tech_Photonics\\Projects\\Narrow Linewidth\\MFB Chips\\Chip 3 Feedback measurements\\16-07\\2024-07-16_15-39-02_fb_684µW\\no 19full.txt\n",
      "O:\\Tech_Photonics\\Projects\\Narrow Linewidth\\MFB Chips\\Chip 3 Feedback measurements\\16-07\\2024-07-16_15-39-02_fb_684µW\\no 20full.txt\n",
      "O:\\Tech_Photonics\\Projects\\Narrow Linewidth\\MFB Chips\\Chip 3 Feedback measurements\\16-07\\2024-07-16_15-39-02_fb_684µW\\no 10zoom.txt\n",
      "O:\\Tech_Photonics\\Projects\\Narrow Linewidth\\MFB Chips\\Chip 3 Feedback measurements\\16-07\\2024-07-16_15-39-02_fb_684µW\\no 11zoom.txt\n",
      "O:\\Tech_Photonics\\Projects\\Narrow Linewidth\\MFB Chips\\Chip 3 Feedback measurements\\16-07\\2024-07-16_15-39-02_fb_684µW\\no 12zoom.txt\n",
      "O:\\Tech_Photonics\\Projects\\Narrow Linewidth\\MFB Chips\\Chip 3 Feedback measurements\\16-07\\2024-07-16_15-39-02_fb_684µW\\no 13zoom.txt\n",
      "O:\\Tech_Photonics\\Projects\\Narrow Linewidth\\MFB Chips\\Chip 3 Feedback measurements\\16-07\\2024-07-16_15-39-02_fb_684µW\\no 14zoom.txt\n",
      "O:\\Tech_Photonics\\Projects\\Narrow Linewidth\\MFB Chips\\Chip 3 Feedback measurements\\16-07\\2024-07-16_15-39-02_fb_684µW\\no 15zoom.txt\n",
      "O:\\Tech_Photonics\\Projects\\Narrow Linewidth\\MFB Chips\\Chip 3 Feedback measurements\\16-07\\2024-07-16_15-39-02_fb_684µW\\no 16zoom.txt\n",
      "O:\\Tech_Photonics\\Projects\\Narrow Linewidth\\MFB Chips\\Chip 3 Feedback measurements\\16-07\\2024-07-16_15-39-02_fb_684µW\\no 17zoom.txt\n",
      "O:\\Tech_Photonics\\Projects\\Narrow Linewidth\\MFB Chips\\Chip 3 Feedback measurements\\16-07\\2024-07-16_15-39-02_fb_684µW\\no 18zoom.txt\n",
      "O:\\Tech_Photonics\\Projects\\Narrow Linewidth\\MFB Chips\\Chip 3 Feedback measurements\\16-07\\2024-07-16_15-39-02_fb_684µW\\no 19zoom.txt\n",
      "O:\\Tech_Photonics\\Projects\\Narrow Linewidth\\MFB Chips\\Chip 3 Feedback measurements\\16-07\\2024-07-16_15-39-02_fb_684µW\\no 1zoom.txt\n",
      "O:\\Tech_Photonics\\Projects\\Narrow Linewidth\\MFB Chips\\Chip 3 Feedback measurements\\16-07\\2024-07-16_15-39-02_fb_684µW\\no 20zoom.txt\n",
      "O:\\Tech_Photonics\\Projects\\Narrow Linewidth\\MFB Chips\\Chip 3 Feedback measurements\\16-07\\2024-07-16_15-39-02_fb_684µW\\no 2zoom.txt\n",
      "O:\\Tech_Photonics\\Projects\\Narrow Linewidth\\MFB Chips\\Chip 3 Feedback measurements\\16-07\\2024-07-16_15-39-02_fb_684µW\\no 3zoom.txt\n",
      "O:\\Tech_Photonics\\Projects\\Narrow Linewidth\\MFB Chips\\Chip 3 Feedback measurements\\16-07\\2024-07-16_15-39-02_fb_684µW\\no 4zoom.txt\n",
      "O:\\Tech_Photonics\\Projects\\Narrow Linewidth\\MFB Chips\\Chip 3 Feedback measurements\\16-07\\2024-07-16_15-39-02_fb_684µW\\no 5zoom.txt\n",
      "O:\\Tech_Photonics\\Projects\\Narrow Linewidth\\MFB Chips\\Chip 3 Feedback measurements\\16-07\\2024-07-16_15-39-02_fb_684µW\\no 6zoom.txt\n",
      "O:\\Tech_Photonics\\Projects\\Narrow Linewidth\\MFB Chips\\Chip 3 Feedback measurements\\16-07\\2024-07-16_15-39-02_fb_684µW\\no 7zoom.txt\n",
      "O:\\Tech_Photonics\\Projects\\Narrow Linewidth\\MFB Chips\\Chip 3 Feedback measurements\\16-07\\2024-07-16_15-39-02_fb_684µW\\no 8zoom.txt\n",
      "O:\\Tech_Photonics\\Projects\\Narrow Linewidth\\MFB Chips\\Chip 3 Feedback measurements\\16-07\\2024-07-16_15-39-02_fb_684µW\\no 9zoom.txt\n"
     ]
    },
    {
     "ename": "TypeError",
     "evalue": "RINSpectrum.load_csv_with_header() got multiple values for argument 'header_lines_count'",
     "output_type": "error",
     "traceback": [
      "\u001b[1;31m---------------------------------------------------------------------------\u001b[0m",
      "\u001b[1;31mTypeError\u001b[0m                                 Traceback (most recent call last)",
      "Cell \u001b[1;32mIn[4], line 1\u001b[0m\n\u001b[1;32m----> 1\u001b[0m \u001b[43mld\u001b[49m\u001b[38;5;241;43m.\u001b[39;49m\u001b[43mget_SMSR_filtered_data\u001b[49m\u001b[43m(\u001b[49m\u001b[43mdata_dir\u001b[49m\u001b[43m)\u001b[49m\n",
      "File \u001b[1;32mc:\\Users\\au617810\\.conda\\envs\\conda_env\\Lib\\site-packages\\uslib\\load_data.py:491\u001b[0m, in \u001b[0;36mget_SMSR_filtered_data\u001b[1;34m(directory)\u001b[0m\n\u001b[0;32m    488\u001b[0m \u001b[38;5;66;03m#Get subfolders in directory\u001b[39;00m\n\u001b[0;32m    489\u001b[0m paths_dir \u001b[38;5;241m=\u001b[39m [path(file) \u001b[38;5;28;01mfor\u001b[39;00m file \u001b[38;5;129;01min\u001b[39;00m files \u001b[38;5;28;01mif\u001b[39;00m os\u001b[38;5;241m.\u001b[39mpath\u001b[38;5;241m.\u001b[39misdir(path(file))]\n\u001b[1;32m--> 491\u001b[0m data \u001b[38;5;241m=\u001b[39m [\u001b[43mget_SMSR_filtered_measurements\u001b[49m\u001b[43m(\u001b[49m\u001b[43me\u001b[49m\u001b[43m)\u001b[49m \u001b[38;5;28;01mfor\u001b[39;00m e \u001b[38;5;129;01min\u001b[39;00m paths_dir]\n\u001b[0;32m    494\u001b[0m \u001b[38;5;28;01mreturn\u001b[39;00m data\n",
      "File \u001b[1;32mc:\\Users\\au617810\\.conda\\envs\\conda_env\\Lib\\site-packages\\uslib\\load_data.py:578\u001b[0m, in \u001b[0;36mget_SMSR_filtered_measurements\u001b[1;34m(directory)\u001b[0m\n\u001b[0;32m    576\u001b[0m     RIN \u001b[38;5;241m=\u001b[39m \u001b[38;5;28;01mNone\u001b[39;00m\n\u001b[0;32m    577\u001b[0m \u001b[38;5;28;01melse\u001b[39;00m:\n\u001b[1;32m--> 578\u001b[0m     RIN \u001b[38;5;241m=\u001b[39m \u001b[43mRINSpectrum\u001b[49m\u001b[43m(\u001b[49m\u001b[43mpath_RIN\u001b[49m\u001b[43m)\u001b[49m\n\u001b[0;32m    580\u001b[0m \u001b[38;5;28;01mfor\u001b[39;00m time_osc_path \u001b[38;5;129;01min\u001b[39;00m csv_files_path: \u001b[38;5;66;03m#Time series RIN\u001b[39;00m\n\u001b[0;32m    581\u001b[0m     \u001b[38;5;28;01mif\u001b[39;00m time_osc_path \u001b[38;5;241m==\u001b[39m \u001b[38;5;28;01mNone\u001b[39;00m:\n",
      "File \u001b[1;32mc:\\Users\\au617810\\.conda\\envs\\conda_env\\Lib\\site-packages\\uslib\\load_data.py:673\u001b[0m, in \u001b[0;36mRINSpectrum.__init__\u001b[1;34m(self, path)\u001b[0m\n\u001b[0;32m    665\u001b[0m \u001b[38;5;28;01mdef\u001b[39;00m \u001b[38;5;21m__init__\u001b[39m(\u001b[38;5;28mself\u001b[39m, path) \u001b[38;5;241m-\u001b[39m\u001b[38;5;241m>\u001b[39m \u001b[38;5;28;01mNone\u001b[39;00m:\n\u001b[0;32m    666\u001b[0m \u001b[38;5;250m    \u001b[39m\u001b[38;5;124;03m\"\"\"Makes instance of a RIN spectrum.\u001b[39;00m\n\u001b[0;32m    667\u001b[0m \n\u001b[0;32m    668\u001b[0m \u001b[38;5;124;03m    Parameters\u001b[39;00m\n\u001b[1;32m   (...)\u001b[0m\n\u001b[0;32m    671\u001b[0m \u001b[38;5;124;03m        Path to the RIN spectrum \u001b[39;00m\n\u001b[0;32m    672\u001b[0m \u001b[38;5;124;03m    \"\"\"\u001b[39;00m\n\u001b[1;32m--> 673\u001b[0m     freqs, ps, header \u001b[38;5;241m=\u001b[39m \u001b[38;5;28;43mself\u001b[39;49m\u001b[38;5;241;43m.\u001b[39;49m\u001b[43mget_data\u001b[49m\u001b[43m(\u001b[49m\u001b[43mpath\u001b[49m\u001b[43m)\u001b[49m\n\u001b[0;32m    675\u001b[0m     \u001b[38;5;28mself\u001b[39m\u001b[38;5;241m.\u001b[39mfreqs \u001b[38;5;241m=\u001b[39m freqs\n\u001b[0;32m    676\u001b[0m     \u001b[38;5;28mself\u001b[39m\u001b[38;5;241m.\u001b[39mpowers \u001b[38;5;241m=\u001b[39m ps\n",
      "File \u001b[1;32mc:\\Users\\au617810\\.conda\\envs\\conda_env\\Lib\\site-packages\\uslib\\load_data.py:697\u001b[0m, in \u001b[0;36mRINSpectrum.get_data\u001b[1;34m(self, path)\u001b[0m\n\u001b[0;32m    681\u001b[0m \u001b[38;5;28;01mdef\u001b[39;00m \u001b[38;5;21mget_data\u001b[39m(\u001b[38;5;28mself\u001b[39m, path):\n\u001b[0;32m    682\u001b[0m \u001b[38;5;250m    \u001b[39m\u001b[38;5;124;03m\"\"\"Returns RIN data from file path\u001b[39;00m\n\u001b[0;32m    683\u001b[0m \n\u001b[0;32m    684\u001b[0m \u001b[38;5;124;03m    Parameters\u001b[39;00m\n\u001b[1;32m   (...)\u001b[0m\n\u001b[0;32m    694\u001b[0m \u001b[38;5;124;03m        array of powers\u001b[39;00m\n\u001b[0;32m    695\u001b[0m \u001b[38;5;124;03m    \"\"\"\u001b[39;00m\n\u001b[1;32m--> 697\u001b[0m     header, df \u001b[38;5;241m=\u001b[39m \u001b[38;5;28;43mself\u001b[39;49m\u001b[38;5;241;43m.\u001b[39;49m\u001b[43mload_csv_with_header\u001b[49m\u001b[43m(\u001b[49m\u001b[43mpath\u001b[49m\u001b[43m,\u001b[49m\u001b[43mheader_lines_count\u001b[49m\u001b[38;5;241;43m=\u001b[39;49m\u001b[38;5;241;43m13\u001b[39;49m\u001b[43m)\u001b[49m\n\u001b[0;32m    699\u001b[0m     freq \u001b[38;5;241m=\u001b[39m df[:,\u001b[38;5;241m0\u001b[39m] \u001b[38;5;66;03m#Hz\u001b[39;00m\n\u001b[0;32m    700\u001b[0m     ps \u001b[38;5;241m=\u001b[39m df[:,\u001b[38;5;241m1\u001b[39m] \u001b[38;5;66;03m#dB/Hz\u001b[39;00m\n",
      "\u001b[1;31mTypeError\u001b[0m: RINSpectrum.load_csv_with_header() got multiple values for argument 'header_lines_count'"
     ]
    }
   ],
   "source": [
    "ld.get_SMSR_filtered_data(data_dir)"
   ]
  },
  {
   "cell_type": "code",
   "execution_count": null,
   "metadata": {},
   "outputs": [],
   "source": [
    "with open(r\"O:\\Tech_Photonics\\Projects\\Narrow Linewidth\\MFB Chips\\Chip 3 Feedback measurements\\16-07\\2024-07-17_12-21-10_fb_0.1021µW\\no 0full.txt\",encoding=\"utf8\") as data:\n",
    "\n",
    "    #Making sure that all the information is in the same format\n",
    "    header = data.readline().strip().replace('# ','').replace(', ',',').replace(':','=').replace(' =','=').replace('= ','=')\n",
    "    header2 = data.readline().strip().replace('#  ','').replace('# ','').replace('Parameters: ','').replace(', ',',').replace(':','=').replace(' =','=').replace('= ','=')\n",
    "\n",
    "        \n",
    "#Making sure that no empty values are included\n",
    "header_final = [i for i in header.split(',') if i]\n",
    "\n",
    "header2_final = [i for i in header2.split(',') if i]\n",
    "\n",
    "all_params_list = header_final + header2_final\n",
    "\n",
    "params_dict = {}"
   ]
  },
  {
   "cell_type": "code",
   "execution_count": null,
   "metadata": {},
   "outputs": [
    {
     "data": {
      "text/plain": [
       "True"
      ]
     },
     "execution_count": 21,
     "metadata": {},
     "output_type": "execute_result"
    }
   ],
   "source": [
    "sum(['=' in file for file in all_params_list])<1"
   ]
  },
  {
   "cell_type": "code",
   "execution_count": null,
   "metadata": {},
   "outputs": [
    {
     "ename": "SyntaxError",
     "evalue": "incomplete input (1941968121.py, line 1)",
     "output_type": "error",
     "traceback": [
      "\u001b[1;36m  Cell \u001b[1;32mIn[10], line 1\u001b[1;36m\u001b[0m\n\u001b[1;33m    if '=' in all_params_list:\u001b[0m\n\u001b[1;37m                              ^\u001b[0m\n\u001b[1;31mSyntaxError\u001b[0m\u001b[1;31m:\u001b[0m incomplete input\n"
     ]
    }
   ],
   "source": [
    "if '=' in all_params_list:\n",
    "    "
   ]
  }
 ],
 "metadata": {
  "kernelspec": {
   "display_name": "conda_env",
   "language": "python",
   "name": "python3"
  },
  "language_info": {
   "codemirror_mode": {
    "name": "ipython",
    "version": 3
   },
   "file_extension": ".py",
   "mimetype": "text/x-python",
   "name": "python",
   "nbconvert_exporter": "python",
   "pygments_lexer": "ipython3",
   "version": "3.12.0"
  }
 },
 "nbformat": 4,
 "nbformat_minor": 2
}
